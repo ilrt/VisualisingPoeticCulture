{
 "cells": [
  {
   "cell_type": "code",
   "execution_count": 1,
   "metadata": {
    "pycharm": {
     "is_executing": false
    }
   },
   "outputs": [],
   "source": [
    "# setup relative path to import local module (needed when used in Conda) https://stackoverflow.com/questions/34478398\n",
    "import os\n",
    "import sys\n",
    "module_path = os.path.abspath(os.path.join('..'))\n",
    "if module_path not in sys.path:\n",
    "    sys.path.append(module_path)\n",
    "import visualising_poetry.data as vpd\n",
    "\n",
    "# import libraries\n",
    "from IPython.display import display\n",
    "\n",
    "# get data and process (if necessary)\n",
    "vpd.setup_if_needed()"
   ]
  },
  {
   "cell_type": "markdown",
   "metadata": {
    "pycharm": {
     "name": "#%% md\n"
    }
   },
   "source": [
    "# Data Files\n",
    "\n",
    "A notebook that provides a quick overview of the data files in the project.\n",
    "\n",
    "## Notebook setup\n",
    "\n",
    "Ensure that necessary libraries are install and imported into the workplace."
   ]
  },
  {
   "cell_type": "markdown",
   "metadata": {
    "pycharm": {
     "name": "#%% md\n"
    }
   },
   "source": [
    "## Excel 'source' files\n",
    "\n",
    "The project has the following source (Excel) files:"
   ]
  },
  {
   "cell_type": "code",
   "execution_count": 2,
   "metadata": {
    "pycharm": {
     "is_executing": false,
     "name": "#%%\n"
    }
   },
   "outputs": [],
   "source": [
    "source_files_df = vpd.source_files_info_as_df()\n",
    "display(source_files_df.sort_values('Source Files'))"
   ]
  },
  {
   "cell_type": "markdown",
   "metadata": {},
   "source": [
    "## Pickle 'preprocessed' files \n",
    "\n",
    "The project has the following 'preprocessed' Pandas data frames of the 'poem data' sheet from the Excel source file.\n",
    "The data is cleaned on the generation of the pickle files, such as stripping extra whitespace and normalising case.\n",
    "\n",
    "The row count might differ slightly since any empty rows are deleted when the pickle files are generated.\n",
    "\n",
    "Two additional 'computed' columns are created when the pickle files are created:\n",
    "\n",
    " * 'printed' a numpy datetime64 object constructed from other columns. Magazines with no day given are moved to the \n",
    "   1st of the following month to represent their likely publication and/or distribution date.\n",
    " * 'printed string' which is a string representation of the 'printed' field in the format YYYY-MM-DD"
   ]
  },
  {
   "cell_type": "code",
   "execution_count": 3,
   "metadata": {
    "pycharm": {
     "is_executing": false,
     "name": "#%%\n"
    }
   },
   "outputs": [],
   "source": [
    "preprocessed_file_df = vpd.preprocessed_files_info_as_df()\n",
    "display(preprocessed_file_df.sort_values('Preprocessed Files'))"
   ]
  },
  {
   "cell_type": "markdown",
   "metadata": {
    "pycharm": {
     "name": "#%% md\n"
    }
   },
   "source": [
    "## Complete dataset\n",
    "\n",
    "Using the 'complete_dataset()' method we can get all of the pickle files as a single Pandas data frame.\n",
    "\n",
    "We only return poems that are below or equal to a maximum year (MAX_YEAR in settings.py)."
   ]
  },
  {
   "cell_type": "code",
   "execution_count": 4,
   "metadata": {
    "pycharm": {
     "is_executing": false,
     "name": "#%%\n"
    }
   },
   "outputs": [],
   "source": [
    "# get data\n",
    "df = vpd.complete_dataset()\n",
    "\n",
    "# rows\n",
    "print(\"Complete dataset has {} rows and {} columns\".format(df.shape[0], df.shape[1]))"
   ]
  },
  {
   "cell_type": "code",
   "execution_count": null,
   "metadata": {
    "pycharm": {
     "is_executing": false
    }
   },
   "outputs": [],
   "source": []
  }
 ],
 "metadata": {
  "kernelspec": {
   "display_name": "Python 3",
   "language": "python",
   "name": "python3"
  },
  "language_info": {
   "codemirror_mode": {
    "name": "ipython",
    "version": 3
   },
   "file_extension": ".py",
   "mimetype": "text/x-python",
   "name": "python",
   "nbconvert_exporter": "python",
   "pygments_lexer": "ipython3",
   "version": "3.7.4"
  },
  "pycharm": {
   "stem_cell": {
    "cell_type": "raw",
    "metadata": {
     "collapsed": false
    },
    "source": []
   }
  }
 },
 "nbformat": 4,
 "nbformat_minor": 2
}