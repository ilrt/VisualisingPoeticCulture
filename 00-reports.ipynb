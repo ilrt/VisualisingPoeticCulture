{
 "cells": [
  {
   "cell_type": "markdown",
   "metadata": {
    "collapsed": true,
    "pycharm": {
     "name": "#%% md\n"
    }
   },
   "source": [
    "# Reports\n",
    "\n",
    "A notebook that provides CSV reports that are written to a reports/ folder.\n",
    "\n",
    "## Notebook setup\n",
    "\n",
    "Ensure that necessary libraries are install and imported into the workplace. Make sure that there is a reports folder."
   ]
  },
  {
   "cell_type": "code",
   "execution_count": 1,
   "metadata": {
    "pycharm": {
     "is_executing": false,
     "name": "#%%\n"
    }
   },
   "outputs": [
    {
     "name": "stdout",
     "output_type": "stream",
     "text": [
      "Requirement already satisfied: appnope==0.1.0 in /Users/cmmaj/Development/workspaces/VisualisingPoeticCulture/venv/lib/python3.7/site-packages (from -r ../requirements.txt (line 1)) (0.1.0)\n",
      "Requirement already satisfied: attrs==19.1.0 in /Users/cmmaj/Development/workspaces/VisualisingPoeticCulture/venv/lib/python3.7/site-packages (from -r ../requirements.txt (line 2)) (19.1.0)\n",
      "Requirement already satisfied: backcall==0.1.0 in /Users/cmmaj/Development/workspaces/VisualisingPoeticCulture/venv/lib/python3.7/site-packages (from -r ../requirements.txt (line 3)) (0.1.0)\n",
      "Requirement already satisfied: bleach==3.1.0 in /Users/cmmaj/Development/workspaces/VisualisingPoeticCulture/venv/lib/python3.7/site-packages (from -r ../requirements.txt (line 4)) (3.1.0)\n",
      "Requirement already satisfied: cycler==0.10.0 in /Users/cmmaj/Development/workspaces/VisualisingPoeticCulture/venv/lib/python3.7/site-packages (from -r ../requirements.txt (line 5)) (0.10.0)\n",
      "Requirement already satisfied: decorator==4.4.0 in /Users/cmmaj/Development/workspaces/VisualisingPoeticCulture/venv/lib/python3.7/site-packages (from -r ../requirements.txt (line 6)) (4.4.0)\n",
      "Requirement already satisfied: defusedxml==0.6.0 in /Users/cmmaj/Development/workspaces/VisualisingPoeticCulture/venv/lib/python3.7/site-packages (from -r ../requirements.txt (line 7)) (0.6.0)\n",
      "Requirement already satisfied: entrypoints==0.3 in /Users/cmmaj/Development/workspaces/VisualisingPoeticCulture/venv/lib/python3.7/site-packages (from -r ../requirements.txt (line 8)) (0.3)\n",
      "Requirement already satisfied: ipykernel==5.1.2 in /Users/cmmaj/Development/workspaces/VisualisingPoeticCulture/venv/lib/python3.7/site-packages (from -r ../requirements.txt (line 9)) (5.1.2)\n",
      "Requirement already satisfied: ipython==7.8.0 in /Users/cmmaj/Development/workspaces/VisualisingPoeticCulture/venv/lib/python3.7/site-packages (from -r ../requirements.txt (line 10)) (7.8.0)\n",
      "Requirement already satisfied: ipython-genutils==0.2.0 in /Users/cmmaj/Development/workspaces/VisualisingPoeticCulture/venv/lib/python3.7/site-packages (from -r ../requirements.txt (line 11)) (0.2.0)\n",
      "Requirement already satisfied: ipywidgets==7.5.1 in /Users/cmmaj/Development/workspaces/VisualisingPoeticCulture/venv/lib/python3.7/site-packages (from -r ../requirements.txt (line 12)) (7.5.1)\n",
      "Requirement already satisfied: jedi==0.15.1 in /Users/cmmaj/Development/workspaces/VisualisingPoeticCulture/venv/lib/python3.7/site-packages (from -r ../requirements.txt (line 13)) (0.15.1)\n",
      "Requirement already satisfied: Jinja2==2.10.1 in /Users/cmmaj/Development/workspaces/VisualisingPoeticCulture/venv/lib/python3.7/site-packages (from -r ../requirements.txt (line 14)) (2.10.1)\n",
      "Requirement already satisfied: jsonschema==3.0.2 in /Users/cmmaj/Development/workspaces/VisualisingPoeticCulture/venv/lib/python3.7/site-packages (from -r ../requirements.txt (line 15)) (3.0.2)\n",
      "Requirement already satisfied: jupyter==1.0.0 in /Users/cmmaj/Development/workspaces/VisualisingPoeticCulture/venv/lib/python3.7/site-packages (from -r ../requirements.txt (line 16)) (1.0.0)\n",
      "Requirement already satisfied: jupyter-client==5.3.1 in /Users/cmmaj/Development/workspaces/VisualisingPoeticCulture/venv/lib/python3.7/site-packages (from -r ../requirements.txt (line 17)) (5.3.1)\n",
      "Requirement already satisfied: jupyter-console==6.0.0 in /Users/cmmaj/Development/workspaces/VisualisingPoeticCulture/venv/lib/python3.7/site-packages (from -r ../requirements.txt (line 18)) (6.0.0)\n",
      "Requirement already satisfied: jupyter-core==4.5.0 in /Users/cmmaj/Development/workspaces/VisualisingPoeticCulture/venv/lib/python3.7/site-packages (from -r ../requirements.txt (line 19)) (4.5.0)\n",
      "Requirement already satisfied: kiwisolver==1.1.0 in /Users/cmmaj/Development/workspaces/VisualisingPoeticCulture/venv/lib/python3.7/site-packages (from -r ../requirements.txt (line 20)) (1.1.0)\n",
      "Requirement already satisfied: MarkupSafe==1.1.1 in /Users/cmmaj/Development/workspaces/VisualisingPoeticCulture/venv/lib/python3.7/site-packages (from -r ../requirements.txt (line 21)) (1.1.1)\n",
      "Requirement already satisfied: matplotlib==3.1.0 in /Users/cmmaj/Development/workspaces/VisualisingPoeticCulture/venv/lib/python3.7/site-packages (from -r ../requirements.txt (line 22)) (3.1.0)\n",
      "Requirement already satisfied: mistune==0.8.4 in /Users/cmmaj/Development/workspaces/VisualisingPoeticCulture/venv/lib/python3.7/site-packages (from -r ../requirements.txt (line 23)) (0.8.4)\n",
      "Requirement already satisfied: nbconvert==5.6.0 in /Users/cmmaj/Development/workspaces/VisualisingPoeticCulture/venv/lib/python3.7/site-packages (from -r ../requirements.txt (line 24)) (5.6.0)\n",
      "Requirement already satisfied: nbformat==4.4.0 in /Users/cmmaj/Development/workspaces/VisualisingPoeticCulture/venv/lib/python3.7/site-packages (from -r ../requirements.txt (line 25)) (4.4.0)\n",
      "Requirement already satisfied: notebook==6.0.1 in /Users/cmmaj/Development/workspaces/VisualisingPoeticCulture/venv/lib/python3.7/site-packages (from -r ../requirements.txt (line 26)) (6.0.1)\n",
      "Requirement already satisfied: numpy==1.17.2 in /Users/cmmaj/Development/workspaces/VisualisingPoeticCulture/venv/lib/python3.7/site-packages (from -r ../requirements.txt (line 27)) (1.17.2)\n",
      "Requirement already satisfied: pandas==0.25.1 in /Users/cmmaj/Development/workspaces/VisualisingPoeticCulture/venv/lib/python3.7/site-packages (from -r ../requirements.txt (line 28)) (0.25.1)\n",
      "Requirement already satisfied: pandocfilters==1.4.2 in /Users/cmmaj/Development/workspaces/VisualisingPoeticCulture/venv/lib/python3.7/site-packages (from -r ../requirements.txt (line 29)) (1.4.2)\n",
      "Requirement already satisfied: parso==0.5.1 in /Users/cmmaj/Development/workspaces/VisualisingPoeticCulture/venv/lib/python3.7/site-packages (from -r ../requirements.txt (line 30)) (0.5.1)\n",
      "Requirement already satisfied: pexpect==4.7.0 in /Users/cmmaj/Development/workspaces/VisualisingPoeticCulture/venv/lib/python3.7/site-packages (from -r ../requirements.txt (line 31)) (4.7.0)\n",
      "Requirement already satisfied: pickleshare==0.7.5 in /Users/cmmaj/Development/workspaces/VisualisingPoeticCulture/venv/lib/python3.7/site-packages (from -r ../requirements.txt (line 32)) (0.7.5)\n",
      "Requirement already satisfied: prometheus-client==0.7.1 in /Users/cmmaj/Development/workspaces/VisualisingPoeticCulture/venv/lib/python3.7/site-packages (from -r ../requirements.txt (line 33)) (0.7.1)\n",
      "Requirement already satisfied: prompt-toolkit==2.0.9 in /Users/cmmaj/Development/workspaces/VisualisingPoeticCulture/venv/lib/python3.7/site-packages (from -r ../requirements.txt (line 34)) (2.0.9)\n",
      "Requirement already satisfied: ptyprocess==0.6.0 in /Users/cmmaj/Development/workspaces/VisualisingPoeticCulture/venv/lib/python3.7/site-packages (from -r ../requirements.txt (line 35)) (0.6.0)\n",
      "Requirement already satisfied: Pygments==2.4.2 in /Users/cmmaj/Development/workspaces/VisualisingPoeticCulture/venv/lib/python3.7/site-packages (from -r ../requirements.txt (line 36)) (2.4.2)\n",
      "Requirement already satisfied: pyparsing==2.4.2 in /Users/cmmaj/Development/workspaces/VisualisingPoeticCulture/venv/lib/python3.7/site-packages (from -r ../requirements.txt (line 37)) (2.4.2)\n",
      "Requirement already satisfied: pyrsistent==0.15.4 in /Users/cmmaj/Development/workspaces/VisualisingPoeticCulture/venv/lib/python3.7/site-packages (from -r ../requirements.txt (line 38)) (0.15.4)\n",
      "Requirement already satisfied: python-dateutil==2.8.0 in /Users/cmmaj/Development/workspaces/VisualisingPoeticCulture/venv/lib/python3.7/site-packages (from -r ../requirements.txt (line 39)) (2.8.0)\n",
      "Requirement already satisfied: pytz==2019.2 in /Users/cmmaj/Development/workspaces/VisualisingPoeticCulture/venv/lib/python3.7/site-packages (from -r ../requirements.txt (line 40)) (2019.2)\n",
      "Requirement already satisfied: pyzmq==18.1.0 in /Users/cmmaj/Development/workspaces/VisualisingPoeticCulture/venv/lib/python3.7/site-packages (from -r ../requirements.txt (line 41)) (18.1.0)\n",
      "Requirement already satisfied: qtconsole==4.5.5 in /Users/cmmaj/Development/workspaces/VisualisingPoeticCulture/venv/lib/python3.7/site-packages (from -r ../requirements.txt (line 42)) (4.5.5)\n",
      "Requirement already satisfied: scipy==1.3.1 in /Users/cmmaj/Development/workspaces/VisualisingPoeticCulture/venv/lib/python3.7/site-packages (from -r ../requirements.txt (line 43)) (1.3.1)\n",
      "Requirement already satisfied: seaborn==0.9.0 in /Users/cmmaj/Development/workspaces/VisualisingPoeticCulture/venv/lib/python3.7/site-packages (from -r ../requirements.txt (line 44)) (0.9.0)\n",
      "Requirement already satisfied: Send2Trash==1.5.0 in /Users/cmmaj/Development/workspaces/VisualisingPoeticCulture/venv/lib/python3.7/site-packages (from -r ../requirements.txt (line 45)) (1.5.0)\n"
     ]
    },
    {
     "name": "stdout",
     "output_type": "stream",
     "text": [
      "Requirement already satisfied: six==1.12.0 in /Users/cmmaj/Development/workspaces/VisualisingPoeticCulture/venv/lib/python3.7/site-packages (from -r ../requirements.txt (line 46)) (1.12.0)\r\n",
      "Requirement already satisfied: terminado==0.8.2 in /Users/cmmaj/Development/workspaces/VisualisingPoeticCulture/venv/lib/python3.7/site-packages (from -r ../requirements.txt (line 47)) (0.8.2)\r\n",
      "Requirement already satisfied: testpath==0.4.2 in /Users/cmmaj/Development/workspaces/VisualisingPoeticCulture/venv/lib/python3.7/site-packages (from -r ../requirements.txt (line 48)) (0.4.2)\r\n",
      "Requirement already satisfied: tornado==6.0.3 in /Users/cmmaj/Development/workspaces/VisualisingPoeticCulture/venv/lib/python3.7/site-packages (from -r ../requirements.txt (line 49)) (6.0.3)\r\n",
      "Requirement already satisfied: traitlets==4.3.2 in /Users/cmmaj/Development/workspaces/VisualisingPoeticCulture/venv/lib/python3.7/site-packages (from -r ../requirements.txt (line 50)) (4.3.2)\r\n",
      "Requirement already satisfied: wcwidth==0.1.7 in /Users/cmmaj/Development/workspaces/VisualisingPoeticCulture/venv/lib/python3.7/site-packages (from -r ../requirements.txt (line 51)) (0.1.7)\r\n",
      "Requirement already satisfied: webencodings==0.5.1 in /Users/cmmaj/Development/workspaces/VisualisingPoeticCulture/venv/lib/python3.7/site-packages (from -r ../requirements.txt (line 52)) (0.5.1)\r\n",
      "Requirement already satisfied: widgetsnbextension==3.5.1 in /Users/cmmaj/Development/workspaces/VisualisingPoeticCulture/venv/lib/python3.7/site-packages (from -r ../requirements.txt (line 53)) (3.5.1)\r\n",
      "Requirement already satisfied: xlrd==1.2.0 in /Users/cmmaj/Development/workspaces/VisualisingPoeticCulture/venv/lib/python3.7/site-packages (from -r ../requirements.txt (line 54)) (1.2.0)\r\n",
      "Requirement already satisfied: setuptools>=18.5 in /Users/cmmaj/Development/workspaces/VisualisingPoeticCulture/venv/lib/python3.7/site-packages/setuptools-40.8.0-py3.7.egg (from ipython==7.8.0->-r ../requirements.txt (line 10)) (40.8.0)\r\n"
     ]
    }
   ],
   "source": [
    "# setup relative path to import local module (needed when used in Conda) https://stackoverflow.com/questions/34478398\n",
    "import os\n",
    "import sys\n",
    "module_path = os.path.abspath(os.path.join('..'))\n",
    "if module_path not in sys.path:\n",
    "    sys.path.append(module_path)\n",
    "import visualising_poetry.data as vpd\n",
    "import visualising_poetry.reports as vpr\n",
    "from IPython.display import display\n",
    "\n",
    "# get data and process (if necessary)\n",
    "vpd.setup_if_needed()\n",
    "\n"
   ]
  },
  {
   "cell_type": "markdown",
   "metadata": {
    "pycharm": {
     "name": "#%% md\n"
    }
   },
   "source": [
    "## Poems with multiple authors\n",
    "\n",
    "Create a CSV file with details of poems that have more than one unique author. This is a useful report for increasing \n",
    "the attributed authors across the dataset, since an author might have been identified in one copy but not the other. It \n",
    "also helps improving inconsistencies in naming conventions."
   ]
  },
  {
   "cell_type": "code",
   "execution_count": 2,
   "metadata": {
    "pycharm": {
     "is_executing": false,
     "name": "#%%\n"
    }
   },
   "outputs": [
    {
     "data": {
      "text/plain": [
       "'poems_unexpected_multiple_authors–2019-11-07.csv written to /Users/cmmaj/Development/workspaces/VisualisingPoeticCulture//reports/'"
      ]
     },
     "metadata": {},
     "output_type": "display_data"
    }
   ],
   "source": [
    "display(vpr.poems_unexpected_multiple_authors_report())"
   ]
  },
  {
   "cell_type": "code",
   "execution_count": null,
   "metadata": {},
   "outputs": [],
   "source": []
  }
 ],
 "metadata": {
  "kernelspec": {
   "display_name": "Python 3",
   "language": "python",
   "name": "python3"
  },
  "language_info": {
   "codemirror_mode": {
    "name": "ipython",
    "version": 3
   },
   "file_extension": ".py",
   "mimetype": "text/x-python",
   "name": "python",
   "nbconvert_exporter": "python",
   "pygments_lexer": "ipython3",
   "version": "3.7.4"
  },
  "pycharm": {
   "stem_cell": {
    "cell_type": "raw",
    "source": [],
    "metadata": {
     "collapsed": false
    }
   }
  }
 },
 "nbformat": 4,
 "nbformat_minor": 1
}