{
 "cells": [
  {
   "cell_type": "markdown",
   "metadata": {
    "collapsed": true,
    "pycharm": {
     "name": "#%% md\n"
    }
   },
   "source": [
    "# Reports\n",
    "\n",
    "A notebook that provides CSV reports that are written to a reports/ folder.\n",
    "\n",
    "## Notebook setup\n",
    "\n",
    "Ensure that necessary libraries are install and imported into the workplace. Make sure that there is a reports folder."
   ]
  },
  {
   "cell_type": "code",
   "execution_count": 1,
   "metadata": {
    "pycharm": {
     "is_executing": false,
     "name": "#%%\n"
    }
   },
   "outputs": [],
   "source": [
    "# setup relative path to import local module (needed when used in Conda) https://stackoverflow.com/questions/34478398\n",
    "import os\n",
    "import sys\n",
    "module_path = os.path.abspath(os.path.join('..'))\n",
    "if module_path not in sys.path:\n",
    "    sys.path.append(module_path)\n",
    "import visualising_poetry.data as vpd\n",
    "import visualising_poetry.reports as vpr\n",
    "from IPython.display import display\n",
    "\n",
    "# get data and process (if necessary)\n",
    "vpd.setup_if_needed()\n",
    "\n"
   ]
  },
  {
   "cell_type": "markdown",
   "metadata": {
    "pycharm": {
     "name": "#%% md\n"
    }
   },
   "source": [
    "## Poems with multiple authors\n",
    "\n",
    "Create a CSV file with details of poems that have more than one unique author. This is a useful report for increasing \n",
    "the attributed authors across the dataset, since an author might have been identified in one copy but not the other. It \n",
    "also helps improving inconsistencies in naming conventions."
   ]
  },
  {
   "cell_type": "code",
   "execution_count": 2,
   "metadata": {
    "pycharm": {
     "is_executing": false,
     "name": "#%%\n"
    }
   },
   "outputs": [
    {
     "data": {
      "text/plain": [
       "'poems_unexpected_multiple_authors–2020-01-10.csv written to /Users/cmmaj/Development/workspaces/VisualisingPoeticCulture/reports/'"
      ]
     },
     "metadata": {},
     "output_type": "display_data"
    }
   ],
   "source": [
    "display(vpr.poems_unexpected_multiple_authors_report())"
   ]
  },
  {
   "cell_type": "code",
   "execution_count": null,
   "metadata": {},
   "outputs": [],
   "source": []
  }
 ],
 "metadata": {
  "kernelspec": {
   "display_name": "Python 3",
   "language": "python",
   "name": "python3"
  },
  "language_info": {
   "codemirror_mode": {
    "name": "ipython",
    "version": 3
   },
   "file_extension": ".py",
   "mimetype": "text/x-python",
   "name": "python",
   "nbconvert_exporter": "python",
   "pygments_lexer": "ipython3",
   "version": "3.7.5"
  },
  "pycharm": {
   "stem_cell": {
    "cell_type": "raw",
    "metadata": {
     "collapsed": false
    },
    "source": []
   }
  }
 },
 "nbformat": 4,
 "nbformat_minor": 1
}
