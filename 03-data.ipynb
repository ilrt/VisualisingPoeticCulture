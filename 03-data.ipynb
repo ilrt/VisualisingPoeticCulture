{
 "cells": [
  {
   "cell_type": "markdown",
   "metadata": {},
   "source": [
    "# Data Overview\n",
    "\n",
    "A notebook that provides a quick overview of the data in the project. This gives a broad overview of the \n",
    "quantity of poems in the dataset.\n",
    "\n",
    "## Notebook setup\n",
    "\n",
    "Ensure that necessary libraries are install and imported into the workplace."
   ]
  },
  {
   "cell_type": "code",
   "execution_count": 1,
   "metadata": {
    "pycharm": {
     "is_executing": false,
     "name": "#%%\n"
    }
   },
   "outputs": [],
   "source": [
    "# setup relative path to import local module (needed when used in Conda) https://stackoverflow.com/questions/34478398\n",
    "import os\n",
    "import sys\n",
    "module_path = os.path.abspath(os.path.join('..'))\n",
    "if module_path not in sys.path:\n",
    "    sys.path.append(module_path)\n",
    "import visualising_poetry.data as vpd\n",
    "\n",
    "# import libraries\n",
    "import numpy as np\n",
    "import pandas as pd\n",
    "import matplotlib.pyplot as plot\n",
    "from IPython.display import display, HTML\n",
    "\n",
    "# get data and process (if necessary)\n",
    "vpd.setup_if_needed()\n",
    "\n",
    "# get data as a single data frame\n",
    "df = vpd.complete_dataset()"
   ]
  },
  {
   "cell_type": "markdown",
   "metadata": {},
   "source": [
    "## Total number of poems per publications\n",
    "\n",
    "How many poems have been identified in each publication?"
   ]
  },
  {
   "cell_type": "code",
   "execution_count": 2,
   "metadata": {
    "pycharm": {
     "is_executing": false,
     "name": "#%%\n"
    }
   },
   "outputs": [],
   "source": [
    "total = df.groupby('publication title')['first line'].size()\n",
    "total.plot(kind='bar', title=\"Total poems discovered by publication\", figsize=(10,10), yticks=np.arange(0,3000,500))\n",
    "plot.xlabel(\"Publications\")\n",
    "plot.ylabel(\"No. of poems\")\n",
    "plot.show()"
   ]
  },
  {
   "cell_type": "markdown",
   "metadata": {
    "pycharm": {
     "name": "#%% md\n"
    }
   },
   "source": [
    "## Total number of identified poems by year\n",
    "\n",
    "Show the number of identified poems per year regardless of publication."
   ]
  },
  {
   "cell_type": "code",
   "execution_count": 3,
   "metadata": {
    "pycharm": {
     "is_executing": false,
     "name": "#%%\n"
    }
   },
   "outputs": [],
   "source": [
    "# counts the poems by year\n",
    "total_by_year = df.groupby('year')['first line'].size()\n",
    "\n",
    "# get the date range of the data set\n",
    "start_year = vpd.start_year(df)\n",
    "end_year = vpd.end_year(df)\n",
    "\n",
    "# reindex the results to include years not covered\n",
    "total_by_year_updated = total_by_year.reindex(np.arange(start_year, end_year + 1, 1))\n",
    "\n",
    "# generate a plot\n",
    "total_by_year_updated.plot(kind='bar', title=\"Total number of identified poems by year\", figsize=(10,10))\n",
    "plot.xlabel(\"Year of publication\")\n",
    "plot.ylabel(\"No. of poems\")\n",
    "plot.show()"
   ]
  },
  {
   "cell_type": "markdown",
   "metadata": {
    "pycharm": {
     "name": "#%% md\n"
    }
   },
   "source": [
    "## Total number of identified poems (and copies) by year\n",
    "\n",
    "Show the total number of identified poems per year regardless of publication, along with the total number\n",
    "of poems that have been identified as copies."
   ]
  },
  {
   "cell_type": "code",
   "execution_count": 4,
   "metadata": {
    "pycharm": {
     "is_executing": false,
     "name": "#%%\n"
    }
   },
   "outputs": [],
   "source": [
    "# counts of duplicates by the year\n",
    "duplicates_by_year = df.groupby('year')['ref no'].count()\n",
    "\n",
    "# get the date range of the data set\n",
    "start_year = vpd.start_year(df)\n",
    "end_year = vpd.end_year(df)\n",
    "\n",
    "# reindex the results to include years not covered\n",
    "total_by_year_reindex = total_by_year.reindex(np.arange(start_year, end_year + 1, 1))\n",
    "duplicates_by_year_reindex = duplicates_by_year.reindex(np.arange(start_year, end_year + 1, 1))\n",
    "\n",
    "# create a new data frame\n",
    "df2 = pd.DataFrame({\"total\": total_by_year_reindex, \"duplicates\": duplicates_by_year_reindex})\n",
    "\n",
    "# generate a plot\n",
    "df2.plot(kind='bar', title=\"Total number of identified poems (and duplicates) by year\", figsize=(10,10))\n",
    "plot.xlabel(\"Year of publication\")\n",
    "plot.ylabel(\"No. of poems\")\n",
    "plot.show()"
   ]
  },
  {
   "cell_type": "markdown",
   "metadata": {},
   "source": [
    "## Total number of identified poems by publication type\n",
    "\n",
    "Display the distribution of poems across the different publication types."
   ]
  },
  {
   "cell_type": "code",
   "execution_count": 5,
   "metadata": {
    "pycharm": {
     "is_executing": false,
     "name": "#%%\n"
    }
   },
   "outputs": [],
   "source": [
    "total_by_type = df.groupby('publication type')['first line'].count()\n",
    "total_by_type.plot(kind='bar', title=\"Total number of identified poems (and duplicates) by year\")\n",
    "plot.xlabel(\"Type of publication\")\n",
    "plot.ylabel(\"No. of poems\")\n",
    "plot.show()"
   ]
  },
  {
   "cell_type": "markdown",
   "metadata": {
    "pycharm": {
     "name": "#%% md\n"
    }
   },
   "source": [
    "## Do we have unexpected attribute types?\n",
    "\n",
    "Unexpected types will appear in a table with a summary of the poem."
   ]
  },
  {
   "cell_type": "code",
   "execution_count": 6,
   "metadata": {
    "pycharm": {
     "is_executing": false,
     "name": "#%%\n"
    }
   },
   "outputs": [],
   "source": [
    "unexpected = vpd.unexpected_attribute_types(df)\n",
    "display(HTML(unexpected.to_html()))\n"
   ]
  },
  {
   "cell_type": "code",
   "execution_count": null,
   "metadata": {},
   "outputs": [],
   "source": []
  }
 ],
 "metadata": {
  "kernelspec": {
   "display_name": "Python 3",
   "language": "python",
   "name": "python3"
  },
  "language_info": {
   "codemirror_mode": {
    "name": "ipython",
    "version": 3
   },
   "file_extension": ".py",
   "mimetype": "text/x-python",
   "name": "python",
   "nbconvert_exporter": "python",
   "pygments_lexer": "ipython3",
   "version": "3.7.6"
  },
  "pycharm": {
   "stem_cell": {
    "cell_type": "raw",
    "metadata": {
     "collapsed": false
    },
    "source": []
   }
  }
 },
 "nbformat": 4,
 "nbformat_minor": 1
}