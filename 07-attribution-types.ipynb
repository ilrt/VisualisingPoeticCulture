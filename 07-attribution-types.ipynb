{
 "cells": [
  {
   "cell_type": "markdown",
   "metadata": {
    "collapsed": true,
    "pycharm": {
     "is_executing": false,
     "name": "#%% md\n"
    }
   },
   "source": [
    "# Attribute types across the whole dataset\n",
    "\n",
    "A notebook that display attribute type data across the whole dataset.\n",
    "\n",
    "## Notebook setup\n",
    "\n",
    "Ensure that necessary libraries are install and imported into the workplace."
   ]
  },
  {
   "cell_type": "code",
   "execution_count": 1,
   "metadata": {
    "pycharm": {
     "is_executing": false,
     "name": "#%%\n"
    }
   },
   "outputs": [],
   "source": [
    "# setup relative path to import local module (needed when used in Conda) https://stackoverflow.com/questions/34478398\n",
    "import os\n",
    "import sys\n",
    "module_path = os.path.abspath(os.path.join('..'))\n",
    "if module_path not in sys.path:\n",
    "    sys.path.append(module_path)\n",
    "import visualising_poetry.data as vpd\n",
    "import visualising_poetry.plot as vpp\n",
    "\n",
    "# import libraries\n",
    "import matplotlib.pyplot as plot\n",
    "from IPython.display import display, HTML\n",
    "\n",
    "# get data and process (if necessary)\n",
    "vpd.setup_if_needed()\n",
    "\n",
    "# get data as a single data frame\n",
    "df = vpd.complete_dataset()"
   ]
  },
  {
   "cell_type": "markdown",
   "metadata": {},
   "source": [
    "## Distinct attribution types\n",
    "\n",
    "The dataset has the following distinct attribution types. Note that Pandas converts \n",
    "n/a values from the Excel files into NaN."
   ]
  },
  {
   "cell_type": "code",
   "execution_count": 2,
   "metadata": {
    "pycharm": {
     "is_executing": false,
     "name": "#%%\n"
    }
   },
   "outputs": [],
   "source": [
    "types_count = df['attribution type'].unique()\n",
    "display(types_count)"
   ]
  },
  {
   "cell_type": "markdown",
   "metadata": {
    "pycharm": {
     "name": "#%% md\n"
    }
   },
   "source": [
    "## Numbers of attribution types\n",
    "\n",
    "Calculate the number of occurrences that an attribution occurs against the whole dataset, and give a % of that\n",
    "count against the total:"
   ]
  },
  {
   "cell_type": "code",
   "execution_count": 3,
   "metadata": {
    "pycharm": {
     "is_executing": false,
     "name": "#%%\n"
    }
   },
   "outputs": [],
   "source": [
    "attr_type_count = vpd.attribute_types_total_df(df)\n",
    "\n",
    "# display results in a table\n",
    "display(HTML(attr_type_count.to_html()))\n",
    "\n",
    "# display % in a plot\n",
    "attr_type_count.plot(kind='bar', x=vpd.ATTR_TYPE, y='% of total')\n",
    "plot.show()"
   ]
  },
  {
   "cell_type": "markdown",
   "metadata": {
    "pycharm": {
     "name": "#%% md\n"
    }
   },
   "source": [
    "## Occurrences of attribute types across the whole dataset by year\n",
    "\n",
    "Show all of the attribute types (except n/a) across the dataset by year."
   ]
  },
  {
   "cell_type": "code",
   "execution_count": 4,
   "metadata": {
    "pycharm": {
     "is_executing": false,
     "name": "#%%\n"
    }
   },
   "outputs": [],
   "source": [
    "# data frame of attribute types across the whole data set\n",
    "attr_types = vpd.attribution_types_overview_df(df)\n",
    "\n",
    "# this dataset has raw numbers and %, we just need %\n",
    "pc_cols = []\n",
    "for attr_col in attr_types.columns.array:\n",
    "    if ' as %' in attr_col:\n",
    "        pc_cols.append(attr_col)\n",
    "\n",
    "# just get the %\n",
    "attr_types_pc = attr_types[pc_cols]\n",
    "\n",
    "# print date leaks into 1761 (remove it)\n",
    "attr_types_pc = attr_types_pc.drop(index=1761)\n",
    "\n",
    "# plot the data\n",
    "vpp.attribution_types_line_plot(attr_types_pc, \"All attribution types against the whole dataset by year\")"
   ]
  },
  {
   "cell_type": "markdown",
   "metadata": {},
   "source": [
    "## Occurrences of attribute types (apart from na) across the whole dataset by year\n",
    "\n",
    "Show all of the attribute types across the dataset by year."
   ]
  },
  {
   "cell_type": "code",
   "execution_count": 5,
   "metadata": {
    "pycharm": {
     "is_executing": false,
     "name": "#%%\n"
    }
   },
   "outputs": [],
   "source": [
    "attr_types_pc = attr_types_pc.drop(['nan as %'], axis=1)\n",
    "vpp.attribution_types_line_plot(attr_types_pc, \"All attribution types (except nan) against the whole dataset by year\")\n"
   ]
  },
  {
   "cell_type": "code",
   "execution_count": null,
   "metadata": {},
   "outputs": [],
   "source": []
  },
  {
   "cell_type": "code",
   "execution_count": null,
   "metadata": {},
   "outputs": [],
   "source": []
  }
 ],
 "metadata": {
  "kernelspec": {
   "display_name": "Python 3",
   "language": "python",
   "name": "python3"
  },
  "language_info": {
   "codemirror_mode": {
    "name": "ipython",
    "version": 3
   },
   "file_extension": ".py",
   "mimetype": "text/x-python",
   "name": "python",
   "nbconvert_exporter": "python",
   "pygments_lexer": "ipython3",
   "version": "3.7.6"
  },
  "pycharm": {
   "stem_cell": {
    "cell_type": "raw",
    "metadata": {
     "collapsed": false
    },
    "source": []
   }
  }
 },
 "nbformat": 4,
 "nbformat_minor": 1
}