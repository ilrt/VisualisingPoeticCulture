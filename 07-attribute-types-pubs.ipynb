{
 "cells": [
  {
   "cell_type": "code",
   "execution_count": 3,
   "metadata": {
    "pycharm": {
     "name": "#%%\n"
    }
   },
   "outputs": [
    {
     "data": {
      "application/javascript": [
       "IPython.OutputArea.prototype._should_scroll = function(lines) {\n",
       "    return false;\n",
       "}\n"
      ],
      "text/plain": [
       "<IPython.core.display.Javascript object>"
      ]
     },
     "metadata": {},
     "output_type": "display_data"
    }
   ],
   "source": [
    "%%javascript\n",
    "IPython.OutputArea.prototype._should_scroll = function(lines) {\n",
    "    return false;\n",
    "}"
   ]
  },
  {
   "cell_type": "markdown",
   "metadata": {},
   "source": [
    "# Attribute type available in a specific journal\n",
    "\n",
    "A notebook to allow the creation of tables and plots for a specified journal. The notebook uses widgets to allow \n",
    "you to choose a publication.\n",
    "\n",
    "## Notebook setup\n",
    "\n",
    "Ensure that necessary libraries are install and imported into the workplace."
   ]
  },
  {
   "cell_type": "code",
   "execution_count": 4,
   "metadata": {
    "pycharm": {
     "is_executing": false,
     "name": "#%%\n"
    }
   },
   "outputs": [],
   "source": [
    "# setup relative path to import local module (needed when used in Conda) https://stackoverflow.com/questions/34478398\n",
    "import os\n",
    "import sys\n",
    "module_path = os.path.abspath(os.path.join('..'))\n",
    "if module_path not in sys.path:\n",
    "    sys.path.append(module_path)\n",
    "import visualising_poetry.data as vpd\n",
    "import visualising_poetry.widgets as vpw\n",
    "\n",
    "\n",
    "# import libraries\n",
    "import ipywidgets as widgets\n",
    "from IPython.display import display, HTML\n",
    "\n",
    "# get data and process (if necessary)\n",
    "vpd.setup_if_needed()\n",
    "\n",
    "# get data as a single data frame\n",
    "df = vpd.complete_dataset()"
   ]
  },
  {
   "cell_type": "markdown",
   "metadata": {
    "pycharm": {
     "is_executing": false,
     "name": "#%% md\n"
    }
   },
   "source": [
    "## Attribute types by journal\n",
    "\n",
    "Display data and plots for a selected publication."
   ]
  },
  {
   "cell_type": "code",
   "execution_count": 5,
   "metadata": {
    "pycharm": {
     "is_executing": false
    }
   },
   "outputs": [
    {
     "data": {
      "application/vnd.jupyter.widget-view+json": {
       "model_id": "ccdee42e51924c1eba31eecfb0d0f2e8",
       "version_major": 2,
       "version_minor": 0
      },
      "text/plain": [
       "Select(description='Choose', options=('British Magazine', 'Common Sense', 'Craftsman', 'Daily Gazetteer', 'Dub…"
      ]
     },
     "metadata": {},
     "output_type": "display_data"
    },
    {
     "data": {
      "application/vnd.jupyter.widget-view+json": {
       "model_id": "d0db3f484bc84956952ead4c25f42787",
       "version_major": 2,
       "version_minor": 0
      },
      "text/plain": [
       "Button(description='Generate Report', style=ButtonStyle())"
      ]
     },
     "metadata": {},
     "output_type": "display_data"
    },
    {
     "data": {
      "application/vnd.jupyter.widget-view+json": {
       "model_id": "0d11468febf04539a75445a1554549b0",
       "version_major": 2,
       "version_minor": 0
      },
      "text/plain": [
       "Output(layout=Layout(border='1px solid black'))"
      ]
     },
     "metadata": {},
     "output_type": "display_data"
    }
   ],
   "source": [
    "# create the drop-down widget and button\n",
    "pub_widget = vpw.publication_list_widget(df)\n",
    "btn = widgets.Button(description='Generate Report')\n",
    "\n",
    "# output for our widget\n",
    "out = widgets.Output(layout={'border': '1px solid black'})\n",
    "\n",
    "# method called to generate output\n",
    "def on_button_pressed(button):\n",
    "    out.clear_output()\n",
    "    with out:\n",
    "        style = \"\"\"\n",
    "        <style>\n",
    "            .output_scroll {\n",
    "                height: unset !important;\n",
    "                border-radius: unset !important;\n",
    "                -webkit-box-shadow: unset !important;\n",
    "                box-shadow: unset !important;\n",
    "            }\n",
    "        </style>\n",
    "        \"\"\"\n",
    "        display(HTML(style))\n",
    "        vpd.attributes_total_output(df, pub_widget.value, out)\n",
    "\n",
    "btn.on_click(on_button_pressed)\n",
    "display(pub_widget)\n",
    "display(btn)\n",
    "out"
   ]
  },
  {
   "cell_type": "code",
   "execution_count": null,
   "metadata": {},
   "outputs": [],
   "source": []
  }
 ],
 "metadata": {
  "kernelspec": {
   "display_name": "Python 3",
   "language": "python",
   "name": "python3"
  },
  "language_info": {
   "codemirror_mode": {
    "name": "ipython",
    "version": 3
   },
   "file_extension": ".py",
   "mimetype": "text/x-python",
   "name": "python",
   "nbconvert_exporter": "python",
   "pygments_lexer": "ipython3",
   "version": "3.7.5"
  },
  "pycharm": {
   "stem_cell": {
    "cell_type": "raw",
    "metadata": {
     "collapsed": false
    },
    "source": []
   }
  }
 },
 "nbformat": 4,
 "nbformat_minor": 1
}
