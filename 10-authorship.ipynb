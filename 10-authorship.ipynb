{
 "cells": [
  {
   "cell_type": "code",
   "execution_count": 1,
   "metadata": {
    "pycharm": {
     "is_executing": false,
     "name": "#%%\n"
    }
   },
   "outputs": [],
   "source": [
    "%%javascript\n",
    "IPython.OutputArea.prototype._should_scroll = function(lines) {\n",
    "    return false;\n",
    "}"
   ]
  },
  {
   "cell_type": "markdown",
   "metadata": {},
   "source": [
    "# Authorship\n",
    "\n",
    "A notebook that explores authorship.\n",
    "\n",
    "## Notebook setup\n",
    "\n",
    "Ensure that necessary libraries are install and imported into the workplace."
   ]
  },
  {
   "cell_type": "code",
   "execution_count": 2,
   "metadata": {
    "pycharm": {
     "is_executing": false,
     "name": "#%%\n"
    }
   },
   "outputs": [],
   "source": [
    "# setup relative path to import local module (needed when used in Conda) https://stackoverflow.com/questions/34478398\n",
    "import os\n",
    "import sys\n",
    "module_path = os.path.abspath(os.path.join('..'))\n",
    "if module_path not in sys.path:\n",
    "    sys.path.append(module_path)\n",
    "import visualising_poetry.data as vpd\n",
    "import visualising_poetry.widgets as vpw\n",
    "import visualising_poetry.plot as vpp\n",
    "\n",
    "# import libraries\n",
    "import ipywidgets as widgets\n",
    "from IPython.display import display, HTML\n",
    "\n",
    "# get data and process (if necessary)\n",
    "vpd.setup_if_needed()\n",
    "\n",
    "# get data as a single data frame\n",
    "df = vpd.complete_dataset()"
   ]
  },
  {
   "cell_type": "markdown",
   "metadata": {
    "pycharm": {
     "name": "#%% md\n"
    }
   },
   "source": [
    "## Authorship and number of poems\n",
    "\n",
    "The following table shows authors who have been attributed to the authorship of twenty or more poems"
   ]
  },
  {
   "cell_type": "code",
   "execution_count": 3,
   "metadata": {
    "pycharm": {
     "is_executing": false,
     "name": "#%%\n"
    }
   },
   "outputs": [],
   "source": [
    "authors = vpd.authorship_overview_df(df)\n",
    "authors_20 = authors[authors['Total Poems'] >= 20]\n",
    "display(HTML(authors_20.to_html()))"
   ]
  },
  {
   "cell_type": "markdown",
   "metadata": {
    "pycharm": {
     "name": "#%% md\n"
    }
   },
   "source": [
    "## Numbers of authors attributed to poems\n",
    "\n",
    "The following scatter plot breaks down the number of authors attributed to poems. We can see\n",
    "the majority are only attributed to a single poem, with a long tail of authors attributed\n",
    "to multiple poems."
   ]
  },
  {
   "cell_type": "code",
   "execution_count": 4,
   "metadata": {
    "pycharm": {
     "is_executing": false,
     "name": "#%%\n"
    }
   },
   "outputs": [],
   "source": [
    "authors_poems = vpd.authorship_poems_overview_df(df)\n",
    "vpp.author_poems_plot(authors_poems)"
   ]
  },
  {
   "cell_type": "markdown",
   "metadata": {},
   "source": [
    "## Authors and publications\n",
    "\n",
    "The following heat map shows the number of times authors were printed in publications.\n",
    "The authors has been limited to those who have been published 20 or more times."
   ]
  },
  {
   "cell_type": "code",
   "execution_count": 5,
   "metadata": {
    "pycharm": {
     "is_executing": false,
     "name": "#%%\n"
    }
   },
   "outputs": [],
   "source": [
    "author_pubs = vpd.authorship_publications_overview_df(df)\n",
    "vpp.authorship_publications_overview_plot(author_pubs)"
   ]
  },
  {
   "cell_type": "markdown",
   "metadata": {
    "pycharm": {
     "name": "#%% md\n"
    }
   },
   "source": [
    "## Authors and years of publication\n",
    "\n",
    "The following heat map shows the number of times authors were printed in publications.\n",
    "The authors has been limited to those who have been published 20 or more times."
   ]
  },
  {
   "cell_type": "code",
   "execution_count": 6,
   "metadata": {
    "pycharm": {
     "is_executing": false,
     "name": "#%%\n"
    }
   },
   "outputs": [],
   "source": [
    "author_pub_years = vpd.authorship_publication_year_overview_df(df)\n",
    "vpp.authorship_publication_year_plot(author_pub_years)"
   ]
  },
  {
   "cell_type": "markdown",
   "metadata": {
    "pycharm": {
     "name": "#%% md\n"
    }
   },
   "source": [
    "## Individual author"
   ]
  },
  {
   "cell_type": "code",
   "execution_count": 7,
   "metadata": {
    "pycharm": {
     "is_executing": false,
     "name": "#%%\n"
    }
   },
   "outputs": [],
   "source": [
    "author_list = vpd.unique_author_list(df, pub_no=2)\n",
    "author_widget = vpw.author_list_widget(df)\n",
    "btn = widgets.Button(description='Generate Report')\n",
    "# output for our widget\n",
    "out = widgets.Output(layout={'border': '1px solid black'})\n",
    "\n",
    "def button_pressed(button):\n",
    "    out.clear_output()\n",
    "    author = author_widget.value\n",
    "    \n",
    "    results_df = vpd.authors_expanded(df, [author])\n",
    "    results_summary = results_df[vpd.SUMMARY]\n",
    "    with out:\n",
    "        display(HTML('<h2>Report for \\'{}\\'</h2>'.format(author)))\n",
    "        display(HTML('<h3>Summary of data for \\'{}\\'</h3>'.format(author)))\n",
    "        display(HTML(results_summary.to_html()))\n",
    "        matrix = vpd.author_publications(df, author)\n",
    "        display(HTML('<h3>Heat map of publication and year for {}'.format(author)))\n",
    "        vpp.authorship_publication_year_plot(matrix)\n",
    "        unique_vs_copies = vpd.author_unique_vs_copies(df, author)\n",
    "        display(HTML('<h3>Unique versus copies for  \\'{}\\'</h3>'.format(author)))\n",
    "        display(HTML(unique_vs_copies.to_html()))\n",
    "        unique_vs_copies2 = unique_vs_copies[['No. of poems appearing once', 'No. of copies']]\n",
    "        unique_vs_copies2 = unique_vs_copies2.transpose()\n",
    "        unique_vs_copies2.T.plot.bar(stacked=True)\n",
    "        \n",
    "        display(HTML('<h3>Heat map of poems and years for  \\'{}\\'</h3>'.format(author)))\n",
    "        poems_years = vpd.author_poem_matrix(df, author)\n",
    "        vpp.heat_map_plot(poems_years, title=author)\n",
    "\n",
    "btn.on_click(button_pressed)\n",
    "display(author_widget)\n",
    "display(btn)\n",
    "out"
   ]
  },
  {
   "cell_type": "code",
   "execution_count": null,
   "metadata": {
    "pycharm": {
     "is_executing": false
    }
   },
   "outputs": [],
   "source": []
  },
  {
   "cell_type": "code",
   "execution_count": null,
   "metadata": {
    "pycharm": {
     "is_executing": false
    }
   },
   "outputs": [],
   "source": []
  }
 ],
 "metadata": {
  "kernelspec": {
   "display_name": "Python 3",
   "language": "python",
   "name": "python3"
  },
  "language_info": {
   "codemirror_mode": {
    "name": "ipython",
    "version": 3
   },
   "file_extension": ".py",
   "mimetype": "text/x-python",
   "name": "python",
   "nbconvert_exporter": "python",
   "pygments_lexer": "ipython3",
   "version": "3.7.6"
  },
  "pycharm": {
   "stem_cell": {
    "cell_type": "raw",
    "metadata": {
     "collapsed": false
    },
    "source": []
   }
  }
 },
 "nbformat": 4,
 "nbformat_minor": 1
}