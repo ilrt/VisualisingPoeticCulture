{
 "cells": [
  {
   "cell_type": "markdown",
   "metadata": {
    "collapsed": true,
    "pycharm": {
     "name": "#%% md\n"
    }
   },
   "source": [
    "# Gender determined by attribution type\n",
    "\n",
    "A notebook that displays plots related to the gender of the author.\n",
    "\n",
    "On processing the data files, a new ‘gender’ column which makes an educated guess of the gender of \n",
    "the author. The poems are categorized as: \n",
    "\n",
    " * 'male'\n",
    " * 'female'\n",
    " * 'not attributed'\n",
    " * 'attributed (ambiguous)'\n",
    " \n",
    "The first three are self-evident. The fourth refers to the fact that the poem has some form of \n",
    "attribution but we can’t tell if its male or female – no clear given name.\n",
    "\n",
    "The poems in the following way:\n",
    "\n",
    "First, I check the attribution type.\n",
    "\n",
    " * nan is 'not attributed'\n",
    " * m.d.e. or m.pseud are 'male'\n",
    " * f.d.e. or f.pseud are 'female'\n",
    "\n",
    "For other attribution types, we then make an education guess based on the authorship details:\n",
    "\n",
    " * No data, it is is 'not attributed'\n",
    " * We can't determine a given and second name: 'attributed (ambiguous)'\n",
    " * First name are just initials with no prefix: 'attributed (ambiguous)'\n",
    " * Male prefixes, e.g. Dr., Mr. etc): ‘male’\n",
    " * Female prefixes, e.g. Mrs., Miss: ‘female’\n",
    " * Common female given name, e.g. Mary: ‘female’\n",
    " * If there is a reference to a maiden name (nee): ‘female’\n",
    "* Anything else: ‘male’.\n",
    "\n",
    "*Note:* This could be improved in a much more in a larger projects, checking given names against a \n",
    "database of female and male names. \n",
    "\n",
    "## Notebook setup\n",
    "\n",
    "Ensure that necessary libraries are install and imported into the workplace."
   ]
  },
  {
   "cell_type": "code",
   "execution_count": 1,
   "metadata": {
    "pycharm": {
     "is_executing": false,
     "name": "#%%\n"
    }
   },
   "outputs": [],
   "source": [
    "# setup relative path to import local module (needed when used in Conda) https://stackoverflow.com/questions/34478398\n",
    "import os\n",
    "import sys\n",
    "module_path = os.path.abspath(os.path.join('..'))\n",
    "if module_path not in sys.path:\n",
    "    sys.path.append(module_path)\n",
    "import visualising_poetry.data as vpd\n",
    "import visualising_poetry.widgets as vpw\n",
    "import visualising_poetry.plot as vpp\n",
    "\n",
    "# import libraries\n",
    "import ipywidgets as widgets\n",
    "from IPython.display import display, HTML\n",
    "\n",
    "# get data and process (if necessary)\n",
    "vpd.setup_if_needed()\n",
    "\n",
    "# get data as a single data frame\n",
    "df = vpd.complete_dataset()"
   ]
  },
  {
   "cell_type": "markdown",
   "metadata": {},
   "source": [
    "## Gender across the dataset across all print years.\n",
    "\n",
    "Display gender for all publications across all print/publication years. "
   ]
  },
  {
   "cell_type": "code",
   "execution_count": 2,
   "metadata": {
    "pycharm": {
     "is_executing": false,
     "name": "#%%\n"
    }
   },
   "outputs": [],
   "source": [
    "# generate the plot\n",
    "gender = vpd.gender_overview_df(df)\n",
    "vpp.gender_line_plot(gender)"
   ]
  },
  {
   "cell_type": "markdown",
   "metadata": {
    "pycharm": {
     "is_executing": false,
     "name": "#%% md\n"
    }
   },
   "source": [
    "## Gender by by journal\n",
    "\n",
    "Display the plot for a selected publication."
   ]
  },
  {
   "cell_type": "code",
   "execution_count": 3,
   "metadata": {
    "pycharm": {
     "is_executing": false,
     "name": "#%%\n"
    }
   },
   "outputs": [],
   "source": [
    "# create the drop-down widget and button\n",
    "pub_widget = vpw.publication_list_widget(df)\n",
    "btn = widgets.Button(description='Generate Report')\n",
    "\n",
    "# output for our widget\n",
    "out = widgets.Output(layout={'border': '1px solid black'})\n",
    "\n",
    "# method called to generate output\n",
    "def on_button_pressed(button):\n",
    "    out.clear_output()\n",
    "    pub_df = df[df[vpd.PUB_TITLE] == pub_widget.value]\n",
    "    pub_gender_df = vpd.gender_overview_df(pub_df)\n",
    "    with out:\n",
    "        vpp.gender_line_plot(pub_gender_df, '{}: attribution type by gender'.format(pub_widget.value))\n",
    "\n",
    "btn.on_click(on_button_pressed)\n",
    "display(pub_widget)\n",
    "display(btn)\n",
    "out\n",
    "\n"
   ]
  },
  {
   "cell_type": "code",
   "execution_count": null,
   "metadata": {
    "pycharm": {
     "is_executing": false
    }
   },
   "outputs": [],
   "source": []
  }
 ],
 "metadata": {
  "kernelspec": {
   "display_name": "Python 3",
   "language": "python",
   "name": "python3"
  },
  "language_info": {
   "codemirror_mode": {
    "name": "ipython",
    "version": 3
   },
   "file_extension": ".py",
   "mimetype": "text/x-python",
   "name": "python",
   "nbconvert_exporter": "python",
   "pygments_lexer": "ipython3",
   "version": "3.7.6"
  },
  "pycharm": {
   "stem_cell": {
    "cell_type": "raw",
    "metadata": {
     "collapsed": false
    },
    "source": []
   }
  }
 },
 "nbformat": 4,
 "nbformat_minor": 1
}