{
 "cells": [
  {
   "cell_type": "code",
   "execution_count": 1,
   "metadata": {
    "pycharm": {
     "is_executing": false
    }
   },
   "outputs": [
    {
     "name": "stdout",
     "output_type": "stream",
     "text": [
      "No zip file. Getting data.\n",
      "Setup complete\n"
     ]
    }
   ],
   "source": [
    "import glob\n",
    "import visualising_poetry as vp\n",
    "import settings as vp_settings\n",
    "import pandas as pd\n",
    "\n",
    "vp.VisualisingPoetrySetup().setup_if_needed()"
   ]
  },
  {
   "cell_type": "markdown",
   "metadata": {
    "pycharm": {
     "name": "#%% md\n"
    }
   },
   "source": [
    "### Excel Files\n",
    "These are the source Excel files."
   ]
  },
  {
   "cell_type": "code",
   "execution_count": 2,
   "metadata": {
    "pycharm": {
     "is_executing": false,
     "name": "#%%\n"
    }
   },
   "outputs": [
    {
     "name": "stdout",
     "output_type": "stream",
     "text": [
      "Daily Gazetteer - live.xlsx\n",
      "Newcastle General 1747-1760.xlsx\n",
      "Universal Magazine 1747-1800.xlsx\n",
      "Ladies Magazine 1749-1753 - live.xlsx\n",
      "Craftsman - live.xlsx\n",
      "London Morning Advertiser - live.xlsx\n",
      "MagofMags London 1750-1751 - live.xlsx\n",
      "London Magazine 1732-1785.xlsx\n",
      "Common Sense - Live.xlsx\n",
      "Dublin Journal - live.xlsx\n",
      "General Evening Post - live.xlsx\n",
      "London evening post - live.xlsx\n",
      "Gentleman's Magazine 1731-1800.xlsx\n",
      "Westminster Journal.xlsx\n",
      "Scots Magazine 1739-1800.xlsx\n",
      "St James Evening Post.xlsx\n",
      "LDPGA.xlsx\n",
      "Museum 1746-1747.xlsx\n",
      "Universal Spectator.xlsx\n",
      "British Magazine 1746-1751.xlsx\n"
     ]
    }
   ],
   "source": [
    "for f in glob.glob(vp_settings.sources['excel'] + '**/*.xlsx', recursive=True):\n",
    "    print(f.split('/')[-1])"
   ]
  },
  {
   "cell_type": "markdown",
   "metadata": {},
   "source": [
    "### Pickle Files \n",
    "Pickled Panda Data Frames of the 'poem data' sheet in the Excel file/"
   ]
  },
  {
   "cell_type": "code",
   "execution_count": 3,
   "metadata": {
    "pycharm": {
     "is_executing": false,
     "name": "#%%\n"
    }
   },
   "outputs": [
    {
     "name": "stdout",
     "output_type": "stream",
     "text": [
      "British Magazine 1746-1751.pickle\n",
      "Museum 1746-1747.pickle\n",
      "LDPGA.pickle\n",
      "Daily Gazetteer - live.pickle\n",
      "Universal Magazine 1747-1800.pickle\n",
      "Craftsman - live.pickle\n",
      "Scots Magazine 1739-1800.pickle\n",
      "MagofMags London 1750-1751 - live.pickle\n",
      "London Magazine 1732-1785.pickle\n",
      "London evening post - live.pickle\n",
      "Gentleman's Magazine 1731-1800.pickle\n",
      "Universal Spectator.pickle\n",
      "Common Sense - Live.pickle\n",
      "Ladies Magazine 1749-1753 - live.pickle\n",
      "General Evening Post - live.pickle\n",
      "Westminster Journal.pickle\n",
      "Dublin Journal - live.pickle\n",
      "Newcastle General 1747-1760.pickle\n",
      "London Morning Advertiser - live.pickle\n",
      "St James Evening Post.pickle\n"
     ]
    }
   ],
   "source": [
    "for f in glob.glob(vp_settings.sources['pickle'] + '*.pickle', recursive=True):\n",
    "    print(f.split('/')[-1])"
   ]
  }
 ],
 "metadata": {
  "kernelspec": {
   "display_name": "Python 3",
   "language": "python",
   "name": "python3"
  },
  "language_info": {
   "codemirror_mode": {
    "name": "ipython",
    "version": 3
   },
   "file_extension": ".py",
   "mimetype": "text/x-python",
   "name": "python",
   "nbconvert_exporter": "python",
   "pygments_lexer": "ipython3",
   "version": "3.7.4"
  },
  "pycharm": {
   "stem_cell": {
    "cell_type": "raw",
    "metadata": {
     "collapsed": false
    },
    "source": []
   }
  }
 },
 "nbformat": 4,
 "nbformat_minor": 1
}
