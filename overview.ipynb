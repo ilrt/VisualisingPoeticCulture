{
 "cells": [
  {
   "cell_type": "code",
   "execution_count": 12,
   "metadata": {
    "collapsed": true,
    "pycharm": {
     "is_executing": false
    }
   },
   "outputs": [],
   "source": [
    "import glob\n",
    "import visualising_poetry as vp\n",
    "import settings as vp_settings\n",
    "import pandas as pd\n",
    "\n",
    "vp.VisualisingPoetrySetup().setup_if_needed()"
   ]
  },
  {
   "cell_type": "markdown",
   "source": [
    "### Excel Files\n",
    "These are the source Excel files."
   ],
   "metadata": {
    "collapsed": false,
    "pycharm": {
     "name": "#%% md\n"
    }
   }
  },
  {
   "cell_type": "code",
   "execution_count": 13,
   "outputs": [
    {
     "name": "stdout",
     "text": [
      "Daily Gazetteer - live.xlsx\nNewcastle General 1747-1760.xlsx\nUniversal Magazine 1747-1800.xlsx\nLadies Magazine 1749-1753 - live.xlsx\nCraftsman - live.xlsx\nLondon Morning Advertiser - live.xlsx\nMagofMags London 1750-1751 - live.xlsx\nLondon Magazine 1732-1785.xlsx\nCommon Sense - Live.xlsx\nDublin Journal - live.xlsx\nGeneral Evening Post - live.xlsx\nLondon evening post - live.xlsx\nGentleman's Magazine 1731-1800.xlsx\nWestminster Journal.xlsx\nScots Magazine 1739-1800.xlsx\nSt James Evening Post.xlsx\nLDPGA.xlsx\nMuseum 1746-1747.xlsx\nUniversal Spectator.xlsx\nBritish Magazine 1746-1751.xlsx\n"
     ],
     "output_type": "stream"
    }
   ],
   "source": [
    "for f in glob.glob(vp_settings.sources['excel'] + '**/*.xlsx', recursive=True):\n",
    "    print(f.split('/')[-1])"
   ],
   "metadata": {
    "collapsed": false,
    "pycharm": {
     "name": "#%%\n",
     "is_executing": false
    }
   }
  },
  {
   "cell_type": "markdown",
   "source": [
    "### Pickle Files \n",
    "Pickled Panda Data Frames of the 'poem data' sheet in the Excel file/"
   ],
   "metadata": {
    "collapsed": false
   }
  },
  {
   "cell_type": "code",
   "execution_count": 14,
   "outputs": [
    {
     "name": "stdout",
     "text": [
      "British Magazine 1746-1751.pickle\nMuseum 1746-1747.pickle\nLDPGA.pickle\nDaily Gazetteer - live.pickle\nUniversal Magazine 1747-1800.pickle\nCraftsman - live.pickle\nScots Magazine 1739-1800.pickle\nMagofMags London 1750-1751 - live.pickle\nLondon Magazine 1732-1785.pickle\nLondon evening post - live.pickle\nGentleman's Magazine 1731-1800.pickle\nUniversal Spectator.pickle\nCommon Sense - Live.pickle\nLadies Magazine 1749-1753 - live.pickle\nGeneral Evening Post - live.pickle\nWestminster Journal.pickle\nDublin Journal - live.pickle\nNewcastle General 1747-1760.pickle\nLondon Morning Advertiser - live.pickle\nSt James Evening Post.pickle\n"
     ],
     "output_type": "stream"
    }
   ],
   "source": [
    "for f in glob.glob(vp_settings.sources['pickle'] + '*.pickle', recursive=True):\n",
    "    print(f.split('/')[-1])"
   ],
   "metadata": {
    "collapsed": false,
    "pycharm": {
     "name": "#%%\n",
     "is_executing": false
    }
   }
  }
 ],
 "metadata": {
  "language_info": {
   "codemirror_mode": {
    "name": "ipython",
    "version": 2
   },
   "file_extension": ".py",
   "mimetype": "text/x-python",
   "name": "python",
   "nbconvert_exporter": "python",
   "pygments_lexer": "ipython2",
   "version": "2.7.6"
  },
  "kernelspec": {
   "name": "python3",
   "language": "python",
   "display_name": "Python 3"
  },
  "pycharm": {
   "stem_cell": {
    "cell_type": "raw",
    "source": [],
    "metadata": {
     "collapsed": false
    }
   }
  }
 },
 "nbformat": 4,
 "nbformat_minor": 0
}