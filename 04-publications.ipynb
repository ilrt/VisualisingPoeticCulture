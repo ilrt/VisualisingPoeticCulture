{
 "cells": [
  {
   "cell_type": "markdown",
   "metadata": {},
   "source": [
    "# Publications Overview\n",
    "\n",
    "A notebook that provides a quick overview of the publications within the dataset.\n",
    "\n",
    "## Notebook setup\n",
    "\n",
    "Ensure that necessary libraries are install and imported into the workplace."
   ]
  },
  {
   "cell_type": "code",
   "execution_count": 1,
   "metadata": {
    "pycharm": {
     "is_executing": false,
     "name": "#%%\n"
    },
    "scrolled": false
   },
   "outputs": [],
   "source": [
    "# setup relative path to import local module (needed when used in Conda) https://stackoverflow.com/questions/34478398\n",
    "import os\n",
    "import sys\n",
    "module_path = os.path.abspath(os.path.join('..'))\n",
    "if module_path not in sys.path:\n",
    "    sys.path.append(module_path)\n",
    "import visualising_poetry.data as vpd\n",
    "import visualising_poetry.widgets as vpw\n",
    "\n",
    "# import libraries\n",
    "import matplotlib.pyplot as plot\n",
    "import seaborn as sn\n",
    "import ipywidgets as widgets\n",
    "from IPython.display import display\n",
    "\n",
    "# get data and process (if necessary)\n",
    "vpd.setup_if_needed()\n",
    "\n",
    "# get data as a single data frame\n",
    "df = vpd.complete_dataset()"
   ]
  },
  {
   "cell_type": "markdown",
   "metadata": {
    "pycharm": {
     "name": "#%% md\n"
    }
   },
   "source": [
    "## Publication coverage by year\n",
    "\n",
    "A heat map / matrix to show the coverage of the dataset for each publication."
   ]
  },
  {
   "cell_type": "code",
   "execution_count": 2,
   "metadata": {
    "pycharm": {
     "is_executing": false,
     "name": "#%%\n"
    }
   },
   "outputs": [],
   "source": [
    "# create the matrix\n",
    "matrix = vpd.create_publication_year_matrix(df)\n",
    "\n",
    "# display the heat map\n",
    "plot.figure(figsize=(20, 20))\n",
    "with sn.axes_style(\"white\"):\n",
    "    sn.heatmap(matrix, cmap='Oranges', annot=False, cbar=False, fmt='g', annot_kws={'size':14})\n",
    "plot.show()"
   ]
  },
  {
   "cell_type": "markdown",
   "metadata": {
    "pycharm": {
     "name": "#%% md\n"
    }
   },
   "source": [
    "## Titles (showing original vs copies)\n",
    "\n",
    "Generate a report showing the total number of publications vs copies by year. Generate a data table and plot."
   ]
  },
  {
   "cell_type": "code",
   "execution_count": 3,
   "metadata": {
    "pycharm": {
     "is_executing": false,
     "name": "#%%\n"
    },
    "scrolled": false
   },
   "outputs": [],
   "source": [
    "# create the drop-down widget and button\n",
    "pub_widget = vpw.publication_list_widget(df)\n",
    "btn = widgets.Button(description='Generate report')\n",
    "\n",
    "# output for our widget\n",
    "out = widgets.Output(layout={'border': '1px solid black'})\n",
    "\n",
    "# method called to generate output\n",
    "def on_button_pressed(button):\n",
    "    out.clear_output()\n",
    "    vpw.publication_overview_selection(df, pub_widget.value, out)\n",
    "\n",
    "# display UI\n",
    "btn.on_click(on_button_pressed)\n",
    "display(pub_widget)\n",
    "display(btn)\n",
    "out\n"
   ]
  },
  {
   "cell_type": "code",
   "execution_count": null,
   "metadata": {},
   "outputs": [],
   "source": []
  }
 ],
 "metadata": {
  "kernelspec": {
   "display_name": "Python 3",
   "language": "python",
   "name": "python3"
  },
  "language_info": {
   "codemirror_mode": {
    "name": "ipython",
    "version": 3
   },
   "file_extension": ".py",
   "mimetype": "text/x-python",
   "name": "python",
   "nbconvert_exporter": "python",
   "pygments_lexer": "ipython3",
   "version": "3.7.6"
  },
  "pycharm": {
   "stem_cell": {
    "cell_type": "raw",
    "metadata": {
     "collapsed": false
    },
    "source": []
   }
  }
 },
 "nbformat": 4,
 "nbformat_minor": 1
}