{
 "cells": [
  {
   "cell_type": "markdown",
   "metadata": {
    "pycharm": {
     "name": "#%% md\n"
    }
   },
   "source": [
    "# Publications and copies\n",
    "\n",
    "A notebook that provides an overview of copied poems in the dataset in relation to the publications.\n",
    "\n",
    "## Notebook setup\n",
    "\n",
    "Ensure that necessary libraries are install and imported into the workplace."
   ]
  },
  {
   "cell_type": "code",
   "execution_count": 1,
   "metadata": {
    "pycharm": {
     "is_executing": false
    }
   },
   "outputs": [],
   "source": [
    "# setup relative path to import local module (needed when used in Conda) https://stackoverflow.com/questions/34478398\n",
    "import os\n",
    "import sys\n",
    "module_path = os.path.abspath(os.path.join('..'))\n",
    "if module_path not in sys.path:\n",
    "    sys.path.append(module_path)\n",
    "import visualising_poetry.data as vpd\n",
    "\n",
    "# import libraries\n",
    "import numpy as np\n",
    "import pandas as pd\n",
    "import matplotlib.pyplot as plot\n",
    "import seaborn as sn\n",
    "from IPython.display import display\n",
    "\n",
    "# get data and process (if necessary)\n",
    "vpd.setup_if_needed()\n",
    "\n",
    "# get data as a single data frame\n",
    "df = vpd.complete_dataset()"
   ]
  },
  {
   "cell_type": "markdown",
   "metadata": {
    "pycharm": {
     "name": "#%% md\n"
    }
   },
   "source": [
    "## Publications with the first print of poems \n",
    "\n",
    "Count the number of times that a publication has the first (identified) publication of a poem. There \n",
    "might be yet to be discovered earlier poems."
   ]
  },
  {
   "cell_type": "code",
   "execution_count": 2,
   "metadata": {
    "pycharm": {
     "is_executing": false,
     "name": "#%%\n"
    }
   },
   "outputs": [],
   "source": [
    "# get the copies as a dataset\n",
    "copies_df = vpd.copied_poems(df)\n",
    "\n",
    "# axes\n",
    "pubs = vpd.publication_list(copies_df)\n",
    "count = ['Count']\n",
    "\n",
    "# data frame to track counts\n",
    "count_df = pd.DataFrame(np.zeros(shape=(pubs.size, 1)), columns=count, index=pubs)\n",
    "\n",
    "# get the first occurrence of the poem\n",
    "copies_grouped_first_df = copies_df.sort_values([vpd.REF_NO, vpd.PRINTED_DATE]).groupby(\n",
    "    vpd.REF_NO)[[vpd.REF_NO, vpd.PUB_TITLE, str(vpd.PRINTED_DATE)[:10]]].nth(0)[vpd.PUB_TITLE]\n",
    "\n",
    "for title in copies_grouped_first_df:\n",
    "    count_df.at[title, count[0]] += 1\n",
    "\n",
    "# display graph\n",
    "count_df.plot(kind='bar', figsize=(10,5))\n",
    "plot.xlabel('Publication')\n",
    "plot.ylabel('No. of first publication of copied poems')\n",
    "plot.show()"
   ]
  },
  {
   "cell_type": "markdown",
   "metadata": {
    "pycharm": {
     "name": "#%% md\n"
    }
   },
   "source": [
    "## Table to provide an overview of publishing copies\n",
    "\n",
    "We create a data frame for copies that records the number of times a publication was printed,\n",
    "the date of the first print, the date of the last print and the duration between the two (period)."
   ]
  },
  {
   "cell_type": "code",
   "execution_count": 3,
   "metadata": {
    "pycharm": {
     "is_executing": false,
     "name": "#%%\n"
    }
   },
   "outputs": [],
   "source": [
    "# get the dataset\n",
    "df = vpd.complete_dataset()\n",
    "\n",
    "# get the copies\n",
    "copies_df= vpd.copied_poems(df)\n",
    "\n",
    "# sort by match id, date\n",
    "copies_df_sorted = copies_df.sort_values([vpd.REF_NO, vpd.PRINTED_DATE])[[vpd.REF_NO, vpd.PUB_TITLE, vpd.PUB_TYPE, vpd.PRINTED_DATE, vpd.PRINTED_DATE_STR]]\n",
    "\n",
    "# group by the ref ID\n",
    "copies_df_sorted_groupby = copies_df_sorted.groupby(vpd.REF_NO)\n",
    "\n",
    "# we'll have ref numbers as the index and other values as the columns\n",
    "index = copies_df[vpd.REF_NO].unique()\n",
    "columns = [\"Times Printed\", \"First Print\", \"Last Print\", \"Period\"]\n",
    "\n",
    "# create data frame with nans\n",
    "copies_overview_df = pd.DataFrame(np.nan, columns=columns, index=index)\n",
    "\n",
    "# populate the data frame\n",
    "for name, group in copies_df_sorted_groupby:\n",
    "    total = len(group.index)\n",
    "    copies_overview_df.at[name, columns[0]] = total\n",
    "    start = group[vpd.PRINTED_DATE].iloc[0]\n",
    "    copies_overview_df.at[name, columns[1]] = start\n",
    "    end = group[vpd.PRINTED_DATE].iloc[-1]\n",
    "    copies_overview_df.at[name, columns[2]] = end\n",
    "    days = (end - start).days\n",
    "    copies_overview_df.at[name, columns[3]] = days"
   ]
  },
  {
   "cell_type": "markdown",
   "metadata": {
    "pycharm": {
     "name": "#%% md\n"
    }
   },
   "source": [
    "Display the head of the table:"
   ]
  },
  {
   "cell_type": "code",
   "execution_count": 4,
   "metadata": {
    "pycharm": {
     "is_executing": false,
     "name": "#%%\n"
    }
   },
   "outputs": [],
   "source": [
    "display(copies_overview_df.head(n=10))"
   ]
  },
  {
   "cell_type": "markdown",
   "metadata": {
    "pycharm": {
     "name": "#%% md\n"
    }
   },
   "source": [
    "## How often were copies reprinted?\n",
    "\n",
    "Show basic information about the number of times copies were printed."
   ]
  },
  {
   "cell_type": "code",
   "execution_count": 5,
   "metadata": {
    "pycharm": {
     "is_executing": false,
     "name": "#%%\n"
    }
   },
   "outputs": [],
   "source": [
    "display(\"Times printed (min): {}\".format(copies_overview_df['Times Printed'].min()))\n",
    "display(\"Times printed (max): {}\".format(copies_overview_df['Times Printed'].max()))\n",
    "display(\"Times printed (mean): {}\".format(copies_overview_df['Times Printed'].mean()))\n",
    "display(\"Times printed (median): {}\".format(copies_overview_df['Times Printed'].median()))\n",
    "display(\"Times printed (mode): {}\".format(copies_overview_df['Times Printed'].mode()[0]))"
   ]
  },
  {
   "cell_type": "markdown",
   "metadata": {},
   "source": [
    "## What was the duration between republication?\n",
    "\n",
    "Show basic information about the time period between repiblication"
   ]
  },
  {
   "cell_type": "code",
   "execution_count": 6,
   "metadata": {
    "pycharm": {
     "is_executing": false,
     "name": "#%%\n"
    }
   },
   "outputs": [],
   "source": [
    "display(\"Times period (min): {}\".format(copies_overview_df['Period'].min()))\n",
    "display(\"Times period (max): {}\".format(copies_overview_df['Period'].max()))\n",
    "display(\"Times period (mean): {}\".format(copies_overview_df['Period'].mean()))\n",
    "display(\"Times period (median): {}\".format(copies_overview_df['Period'].median()))\n",
    "display(\"Times printed (mode): {}\".format(copies_overview_df['Period'].mode()[0]))\n",
    "\n",
    "# let's create a plot ...\n",
    "\n",
    "days_range = np.arange(0, 7000, 250)\n",
    "\n",
    "results = []\n",
    "prev = None\n",
    "for a in days_range:\n",
    "    if prev is None:\n",
    "        total = len(copies_overview_df[copies_overview_df['Period'] <= a])\n",
    "        results.append(total)\n",
    "    else:\n",
    "        total = len(copies_overview_df[(copies_overview_df['Period'] > prev) & (copies_overview_df['Period'] <= a)])\n",
    "        results.append(total)\n",
    "    prev = a\n",
    "\n",
    "plot.figure(figsize=(20,10))\n",
    "plot.xlabel(\"Number of days between first identified print and last\")\n",
    "plot.ylabel(\"Number of poems\")\n",
    "sn.barplot(x=days_range, y=results)\n",
    "plot.show()"
   ]
  },
  {
   "cell_type": "code",
   "execution_count": null,
   "metadata": {},
   "outputs": [],
   "source": []
  }
 ],
 "metadata": {
  "kernelspec": {
   "display_name": "Python 3",
   "language": "python",
   "name": "python3"
  },
  "language_info": {
   "codemirror_mode": {
    "name": "ipython",
    "version": 3
   },
   "file_extension": ".py",
   "mimetype": "text/x-python",
   "name": "python",
   "nbconvert_exporter": "python",
   "pygments_lexer": "ipython3",
   "version": "3.7.6"
  },
  "pycharm": {
   "stem_cell": {
    "cell_type": "raw",
    "metadata": {
     "collapsed": false
    },
    "source": []
   }
  }
 },
 "nbformat": 4,
 "nbformat_minor": 1
}