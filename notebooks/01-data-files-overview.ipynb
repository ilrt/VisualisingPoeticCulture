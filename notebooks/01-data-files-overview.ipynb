{
 "cells": [
  {
   "cell_type": "code",
   "execution_count": 2,
   "metadata": {
    "collapsed": true,
    "pycharm": {
     "is_executing": false
    }
   },
   "outputs": [
    {
     "name": "stdout",
     "text": [
      "Requirement already satisfied: appnope==0.1.0 in /Users/cmmaj/Development/workspaces/VisualisingPoeticCulture/venv/lib/python3.7/site-packages (from -r ../requirements.txt (line 1)) (0.1.0)\r\nRequirement already satisfied: attrs==19.1.0 in /Users/cmmaj/Development/workspaces/VisualisingPoeticCulture/venv/lib/python3.7/site-packages (from -r ../requirements.txt (line 2)) (19.1.0)\r\nRequirement already satisfied: backcall==0.1.0 in /Users/cmmaj/Development/workspaces/VisualisingPoeticCulture/venv/lib/python3.7/site-packages (from -r ../requirements.txt (line 3)) (0.1.0)\r\nRequirement already satisfied: bleach==3.1.0 in /Users/cmmaj/Development/workspaces/VisualisingPoeticCulture/venv/lib/python3.7/site-packages (from -r ../requirements.txt (line 4)) (3.1.0)\r\nRequirement already satisfied: cycler==0.10.0 in /Users/cmmaj/Development/workspaces/VisualisingPoeticCulture/venv/lib/python3.7/site-packages (from -r ../requirements.txt (line 5)) (0.10.0)\r\nRequirement already satisfied: decorator==4.4.0 in /Users/cmmaj/Development/workspaces/VisualisingPoeticCulture/venv/lib/python3.7/site-packages (from -r ../requirements.txt (line 6)) (4.4.0)\r\n",
      "Requirement already satisfied: defusedxml==0.6.0 in /Users/cmmaj/Development/workspaces/VisualisingPoeticCulture/venv/lib/python3.7/site-packages (from -r ../requirements.txt (line 7)) (0.6.0)\r\nRequirement already satisfied: entrypoints==0.3 in /Users/cmmaj/Development/workspaces/VisualisingPoeticCulture/venv/lib/python3.7/site-packages (from -r ../requirements.txt (line 8)) (0.3)\r\nRequirement already satisfied: ipykernel==5.1.2 in /Users/cmmaj/Development/workspaces/VisualisingPoeticCulture/venv/lib/python3.7/site-packages (from -r ../requirements.txt (line 9)) (5.1.2)\r\nRequirement already satisfied: ipython==7.8.0 in /Users/cmmaj/Development/workspaces/VisualisingPoeticCulture/venv/lib/python3.7/site-packages (from -r ../requirements.txt (line 10)) (7.8.0)\r\n",
      "Requirement already satisfied: ipython-genutils==0.2.0 in /Users/cmmaj/Development/workspaces/VisualisingPoeticCulture/venv/lib/python3.7/site-packages (from -r ../requirements.txt (line 11)) (0.2.0)\r\nRequirement already satisfied: ipywidgets==7.5.1 in /Users/cmmaj/Development/workspaces/VisualisingPoeticCulture/venv/lib/python3.7/site-packages (from -r ../requirements.txt (line 12)) (7.5.1)\r\nRequirement already satisfied: jedi==0.15.1 in /Users/cmmaj/Development/workspaces/VisualisingPoeticCulture/venv/lib/python3.7/site-packages (from -r ../requirements.txt (line 13)) (0.15.1)\r\nRequirement already satisfied: Jinja2==2.10.1 in /Users/cmmaj/Development/workspaces/VisualisingPoeticCulture/venv/lib/python3.7/site-packages (from -r ../requirements.txt (line 14)) (2.10.1)\r\nRequirement already satisfied: jsonschema==3.0.2 in /Users/cmmaj/Development/workspaces/VisualisingPoeticCulture/venv/lib/python3.7/site-packages (from -r ../requirements.txt (line 15)) (3.0.2)\r\nRequirement already satisfied: jupyter==1.0.0 in /Users/cmmaj/Development/workspaces/VisualisingPoeticCulture/venv/lib/python3.7/site-packages (from -r ../requirements.txt (line 16)) (1.0.0)\r\nRequirement already satisfied: jupyter-client==5.3.1 in /Users/cmmaj/Development/workspaces/VisualisingPoeticCulture/venv/lib/python3.7/site-packages (from -r ../requirements.txt (line 17)) (5.3.1)\r\n",
      "Requirement already satisfied: jupyter-console==6.0.0 in /Users/cmmaj/Development/workspaces/VisualisingPoeticCulture/venv/lib/python3.7/site-packages (from -r ../requirements.txt (line 18)) (6.0.0)\r\nRequirement already satisfied: jupyter-core==4.5.0 in /Users/cmmaj/Development/workspaces/VisualisingPoeticCulture/venv/lib/python3.7/site-packages (from -r ../requirements.txt (line 19)) (4.5.0)\r\nRequirement already satisfied: kiwisolver==1.1.0 in /Users/cmmaj/Development/workspaces/VisualisingPoeticCulture/venv/lib/python3.7/site-packages (from -r ../requirements.txt (line 20)) (1.1.0)\r\nRequirement already satisfied: MarkupSafe==1.1.1 in /Users/cmmaj/Development/workspaces/VisualisingPoeticCulture/venv/lib/python3.7/site-packages (from -r ../requirements.txt (line 21)) (1.1.1)\r\nRequirement already satisfied: matplotlib==3.1.1 in /Users/cmmaj/Development/workspaces/VisualisingPoeticCulture/venv/lib/python3.7/site-packages (from -r ../requirements.txt (line 22)) (3.1.1)\r\nRequirement already satisfied: mistune==0.8.4 in /Users/cmmaj/Development/workspaces/VisualisingPoeticCulture/venv/lib/python3.7/site-packages (from -r ../requirements.txt (line 23)) (0.8.4)\r\nRequirement already satisfied: nbconvert==5.6.0 in /Users/cmmaj/Development/workspaces/VisualisingPoeticCulture/venv/lib/python3.7/site-packages (from -r ../requirements.txt (line 24)) (5.6.0)\r\n",
      "Requirement already satisfied: nbformat==4.4.0 in /Users/cmmaj/Development/workspaces/VisualisingPoeticCulture/venv/lib/python3.7/site-packages (from -r ../requirements.txt (line 25)) (4.4.0)\r\nRequirement already satisfied: notebook==6.0.1 in /Users/cmmaj/Development/workspaces/VisualisingPoeticCulture/venv/lib/python3.7/site-packages (from -r ../requirements.txt (line 26)) (6.0.1)\r\n",
      "Requirement already satisfied: numpy==1.17.2 in /Users/cmmaj/Development/workspaces/VisualisingPoeticCulture/venv/lib/python3.7/site-packages (from -r ../requirements.txt (line 27)) (1.17.2)\r\nRequirement already satisfied: pandas==0.25.1 in /Users/cmmaj/Development/workspaces/VisualisingPoeticCulture/venv/lib/python3.7/site-packages (from -r ../requirements.txt (line 28)) (0.25.1)\r\nRequirement already satisfied: pandocfilters==1.4.2 in /Users/cmmaj/Development/workspaces/VisualisingPoeticCulture/venv/lib/python3.7/site-packages (from -r ../requirements.txt (line 29)) (1.4.2)\r\nRequirement already satisfied: parso==0.5.1 in /Users/cmmaj/Development/workspaces/VisualisingPoeticCulture/venv/lib/python3.7/site-packages (from -r ../requirements.txt (line 30)) (0.5.1)\r\nRequirement already satisfied: pexpect==4.7.0 in /Users/cmmaj/Development/workspaces/VisualisingPoeticCulture/venv/lib/python3.7/site-packages (from -r ../requirements.txt (line 31)) (4.7.0)\r\nRequirement already satisfied: pickleshare==0.7.5 in /Users/cmmaj/Development/workspaces/VisualisingPoeticCulture/venv/lib/python3.7/site-packages (from -r ../requirements.txt (line 32)) (0.7.5)\r\nRequirement already satisfied: prometheus-client==0.7.1 in /Users/cmmaj/Development/workspaces/VisualisingPoeticCulture/venv/lib/python3.7/site-packages (from -r ../requirements.txt (line 33)) (0.7.1)\r\n",
      "Requirement already satisfied: prompt-toolkit==2.0.9 in /Users/cmmaj/Development/workspaces/VisualisingPoeticCulture/venv/lib/python3.7/site-packages (from -r ../requirements.txt (line 34)) (2.0.9)\r\nRequirement already satisfied: ptyprocess==0.6.0 in /Users/cmmaj/Development/workspaces/VisualisingPoeticCulture/venv/lib/python3.7/site-packages (from -r ../requirements.txt (line 35)) (0.6.0)\r\nRequirement already satisfied: Pygments==2.4.2 in /Users/cmmaj/Development/workspaces/VisualisingPoeticCulture/venv/lib/python3.7/site-packages (from -r ../requirements.txt (line 36)) (2.4.2)\r\nRequirement already satisfied: pyparsing==2.4.2 in /Users/cmmaj/Development/workspaces/VisualisingPoeticCulture/venv/lib/python3.7/site-packages (from -r ../requirements.txt (line 37)) (2.4.2)\r\nRequirement already satisfied: pyrsistent==0.15.4 in /Users/cmmaj/Development/workspaces/VisualisingPoeticCulture/venv/lib/python3.7/site-packages (from -r ../requirements.txt (line 38)) (0.15.4)\r\nRequirement already satisfied: python-dateutil==2.8.0 in /Users/cmmaj/Development/workspaces/VisualisingPoeticCulture/venv/lib/python3.7/site-packages (from -r ../requirements.txt (line 39)) (2.8.0)\r\nRequirement already satisfied: pytz==2019.2 in /Users/cmmaj/Development/workspaces/VisualisingPoeticCulture/venv/lib/python3.7/site-packages (from -r ../requirements.txt (line 40)) (2019.2)\r\nRequirement already satisfied: pyzmq==18.1.0 in /Users/cmmaj/Development/workspaces/VisualisingPoeticCulture/venv/lib/python3.7/site-packages (from -r ../requirements.txt (line 41)) (18.1.0)\r\nRequirement already satisfied: qtconsole==4.5.5 in /Users/cmmaj/Development/workspaces/VisualisingPoeticCulture/venv/lib/python3.7/site-packages (from -r ../requirements.txt (line 42)) (4.5.5)\r\nRequirement already satisfied: scipy==1.3.1 in /Users/cmmaj/Development/workspaces/VisualisingPoeticCulture/venv/lib/python3.7/site-packages (from -r ../requirements.txt (line 43)) (1.3.1)\r\nRequirement already satisfied: seaborn==0.9.0 in /Users/cmmaj/Development/workspaces/VisualisingPoeticCulture/venv/lib/python3.7/site-packages (from -r ../requirements.txt (line 44)) (0.9.0)\r\n",
      "Requirement already satisfied: Send2Trash==1.5.0 in /Users/cmmaj/Development/workspaces/VisualisingPoeticCulture/venv/lib/python3.7/site-packages (from -r ../requirements.txt (line 45)) (1.5.0)\r\nRequirement already satisfied: six==1.12.0 in /Users/cmmaj/Development/workspaces/VisualisingPoeticCulture/venv/lib/python3.7/site-packages (from -r ../requirements.txt (line 46)) (1.12.0)\r\nRequirement already satisfied: terminado==0.8.2 in /Users/cmmaj/Development/workspaces/VisualisingPoeticCulture/venv/lib/python3.7/site-packages (from -r ../requirements.txt (line 47)) (0.8.2)\r\nRequirement already satisfied: testpath==0.4.2 in /Users/cmmaj/Development/workspaces/VisualisingPoeticCulture/venv/lib/python3.7/site-packages (from -r ../requirements.txt (line 48)) (0.4.2)\r\nRequirement already satisfied: tornado==6.0.3 in /Users/cmmaj/Development/workspaces/VisualisingPoeticCulture/venv/lib/python3.7/site-packages (from -r ../requirements.txt (line 49)) (6.0.3)\r\nRequirement already satisfied: traitlets==4.3.2 in /Users/cmmaj/Development/workspaces/VisualisingPoeticCulture/venv/lib/python3.7/site-packages (from -r ../requirements.txt (line 50)) (4.3.2)\r\n",
      "Requirement already satisfied: wcwidth==0.1.7 in /Users/cmmaj/Development/workspaces/VisualisingPoeticCulture/venv/lib/python3.7/site-packages (from -r ../requirements.txt (line 51)) (0.1.7)\r\nRequirement already satisfied: webencodings==0.5.1 in /Users/cmmaj/Development/workspaces/VisualisingPoeticCulture/venv/lib/python3.7/site-packages (from -r ../requirements.txt (line 52)) (0.5.1)\r\nRequirement already satisfied: widgetsnbextension==3.5.1 in /Users/cmmaj/Development/workspaces/VisualisingPoeticCulture/venv/lib/python3.7/site-packages (from -r ../requirements.txt (line 53)) (3.5.1)\r\nRequirement already satisfied: xlrd==1.2.0 in /Users/cmmaj/Development/workspaces/VisualisingPoeticCulture/venv/lib/python3.7/site-packages (from -r ../requirements.txt (line 54)) (1.2.0)\r\nRequirement already satisfied: setuptools>=18.5 in /Users/cmmaj/Development/workspaces/VisualisingPoeticCulture/venv/lib/python3.7/site-packages/setuptools-40.8.0-py3.7.egg (from ipython==7.8.0->-r ../requirements.txt (line 10)) (40.8.0)\r\n"
     ],
     "output_type": "stream"
    }
   ],
   "source": [
    "!pip install -r ../requirements.txt\n",
    "import glob\n",
    "import visualising_poetry as vp\n",
    "import settings as vp_settings\n",
    "vp.setup_if_needed()"
   ]
  },
  {
   "cell_type": "markdown",
   "source": [
    "## Excel files\n",
    "The project has the following Excel files:"
   ],
   "metadata": {
    "collapsed": false,
    "pycharm": {
     "name": "#%% md\n"
    }
   }
  },
  {
   "cell_type": "code",
   "execution_count": 6,
   "outputs": [
    {
     "name": "stdout",
     "text": [
      "Daily Gazetteer - live.xlsx\nNewcastle General 1747-1760.xlsx\nUniversal Magazine 1747-1800.xlsx\nLadies Magazine 1749-1753 - live.xlsx\nCraftsman - live.xlsx\nLondon Morning Advertiser - live.xlsx\nMagofMags London 1750-1751 - live.xlsx\nLondon Magazine 1732-1785.xlsx\nCommon Sense - Live.xlsx\nDublin Journal - live.xlsx\nGeneral Evening Post - live.xlsx\nLondon evening post - live.xlsx\nGentleman's Magazine 1731-1800.xlsx\nWestminster Journal.xlsx\nScots Magazine 1739-1800.xlsx\nSt James Evening Post.xlsx\nLDPGA.xlsx\nMuseum 1746-1747.xlsx\nUniversal Spectator.xlsx\nBritish Magazine 1746-1751.xlsx\n"
     ],
     "output_type": "stream"
    }
   ],
   "source": [
    "for f in glob.glob(vp_settings.DATA_SRC + '**/*.xlsx', recursive=True):\n",
    "    print(f.split('/')[-1])"
   ],
   "metadata": {
    "collapsed": false,
    "pycharm": {
     "name": "#%%\n",
     "is_executing": false
    }
   }
  },
  {
   "cell_type": "markdown",
   "source": [
    "### Pickle Files \n",
    "Pickled Panda Datas Frames of the 'poem data' sheet in the Excel file/"
   ],
   "metadata": {
    "collapsed": false
   }
  },
  {
   "cell_type": "code",
   "execution_count": 7,
   "outputs": [
    {
     "name": "stdout",
     "text": [
      "British Magazine 1746-1751.pickle\nMuseum 1746-1747.pickle\nLDPGA.pickle\nDaily Gazetteer - live.pickle\nUniversal Magazine 1747-1800.pickle\nCraftsman - live.pickle\nScots Magazine 1739-1800.pickle\nMagofMags London 1750-1751 - live.pickle\nLondon Magazine 1732-1785.pickle\nLondon evening post - live.pickle\nGentleman's Magazine 1731-1800.pickle\nUniversal Spectator.pickle\nCommon Sense - Live.pickle\nLadies Magazine 1749-1753 - live.pickle\nGeneral Evening Post - live.pickle\nWestminster Journal.pickle\nDublin Journal - live.pickle\nNewcastle General 1747-1760.pickle\nLondon Morning Advertiser - live.pickle\nSt James Evening Post.pickle\n"
     ],
     "output_type": "stream"
    }
   ],
   "source": [
    "for f in glob.glob(vp_settings.PICKLE_SRC + '*.pickle', recursive=True):\n",
    "    print(f.split('/')[-1])"
   ],
   "metadata": {
    "collapsed": false,
    "pycharm": {
     "name": "#%%\n",
     "is_executing": false
    }
   }
  }
 ],
 "metadata": {
  "kernelspec": {
   "name": "python3",
   "language": "python",
   "display_name": "Python 3"
  },
  "language_info": {
   "codemirror_mode": {
    "name": "ipython",
    "version": 2
   },
   "file_extension": ".py",
   "mimetype": "text/x-python",
   "name": "python",
   "nbconvert_exporter": "python",
   "pygments_lexer": "ipython2",
   "version": "2.7.6"
  },
  "pycharm": {
   "stem_cell": {
    "cell_type": "raw",
    "source": [],
    "metadata": {
     "collapsed": false
    }
   }
  }
 },
 "nbformat": 4,
 "nbformat_minor": 0
}