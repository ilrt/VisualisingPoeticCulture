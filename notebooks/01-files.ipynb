{
 "cells": [
  {
   "cell_type": "code",
   "execution_count": 1,
   "metadata": {
    "pycharm": {
     "is_executing": false
    }
   },
   "outputs": [
    {
     "name": "stdout",
     "text": [
      "Requirement already satisfied: appnope==0.1.0 in /Users/cmmaj/Development/workspaces/VisualisingPoeticCulture/venv/lib/python3.7/site-packages (from -r ../requirements.txt (line 1)) (0.1.0)\r\nRequirement already satisfied: attrs==19.1.0 in /Users/cmmaj/Development/workspaces/VisualisingPoeticCulture/venv/lib/python3.7/site-packages (from -r ../requirements.txt (line 2)) (19.1.0)\r\n",
      "Requirement already satisfied: backcall==0.1.0 in /Users/cmmaj/Development/workspaces/VisualisingPoeticCulture/venv/lib/python3.7/site-packages (from -r ../requirements.txt (line 3)) (0.1.0)\r\nRequirement already satisfied: bleach==3.1.0 in /Users/cmmaj/Development/workspaces/VisualisingPoeticCulture/venv/lib/python3.7/site-packages (from -r ../requirements.txt (line 4)) (3.1.0)\r\nRequirement already satisfied: cycler==0.10.0 in /Users/cmmaj/Development/workspaces/VisualisingPoeticCulture/venv/lib/python3.7/site-packages (from -r ../requirements.txt (line 5)) (0.10.0)\r\nRequirement already satisfied: decorator==4.4.0 in /Users/cmmaj/Development/workspaces/VisualisingPoeticCulture/venv/lib/python3.7/site-packages (from -r ../requirements.txt (line 6)) (4.4.0)\r\nRequirement already satisfied: defusedxml==0.6.0 in /Users/cmmaj/Development/workspaces/VisualisingPoeticCulture/venv/lib/python3.7/site-packages (from -r ../requirements.txt (line 7)) (0.6.0)\r\nRequirement already satisfied: entrypoints==0.3 in /Users/cmmaj/Development/workspaces/VisualisingPoeticCulture/venv/lib/python3.7/site-packages (from -r ../requirements.txt (line 8)) (0.3)\r\nRequirement already satisfied: ipykernel==5.1.2 in /Users/cmmaj/Development/workspaces/VisualisingPoeticCulture/venv/lib/python3.7/site-packages (from -r ../requirements.txt (line 9)) (5.1.2)\r\n",
      "Requirement already satisfied: ipython==7.8.0 in /Users/cmmaj/Development/workspaces/VisualisingPoeticCulture/venv/lib/python3.7/site-packages (from -r ../requirements.txt (line 10)) (7.8.0)\r\n",
      "Requirement already satisfied: ipython-genutils==0.2.0 in /Users/cmmaj/Development/workspaces/VisualisingPoeticCulture/venv/lib/python3.7/site-packages (from -r ../requirements.txt (line 11)) (0.2.0)\r\nRequirement already satisfied: ipywidgets==7.5.1 in /Users/cmmaj/Development/workspaces/VisualisingPoeticCulture/venv/lib/python3.7/site-packages (from -r ../requirements.txt (line 12)) (7.5.1)\r\nRequirement already satisfied: jedi==0.15.1 in /Users/cmmaj/Development/workspaces/VisualisingPoeticCulture/venv/lib/python3.7/site-packages (from -r ../requirements.txt (line 13)) (0.15.1)\r\nRequirement already satisfied: Jinja2==2.10.1 in /Users/cmmaj/Development/workspaces/VisualisingPoeticCulture/venv/lib/python3.7/site-packages (from -r ../requirements.txt (line 14)) (2.10.1)\r\nRequirement already satisfied: jsonschema==3.0.2 in /Users/cmmaj/Development/workspaces/VisualisingPoeticCulture/venv/lib/python3.7/site-packages (from -r ../requirements.txt (line 15)) (3.0.2)\r\n",
      "Requirement already satisfied: jupyter==1.0.0 in /Users/cmmaj/Development/workspaces/VisualisingPoeticCulture/venv/lib/python3.7/site-packages (from -r ../requirements.txt (line 16)) (1.0.0)\r\nRequirement already satisfied: jupyter-client==5.3.1 in /Users/cmmaj/Development/workspaces/VisualisingPoeticCulture/venv/lib/python3.7/site-packages (from -r ../requirements.txt (line 17)) (5.3.1)\r\nRequirement already satisfied: jupyter-console==6.0.0 in /Users/cmmaj/Development/workspaces/VisualisingPoeticCulture/venv/lib/python3.7/site-packages (from -r ../requirements.txt (line 18)) (6.0.0)\r\nRequirement already satisfied: jupyter-core==4.5.0 in /Users/cmmaj/Development/workspaces/VisualisingPoeticCulture/venv/lib/python3.7/site-packages (from -r ../requirements.txt (line 19)) (4.5.0)\r\nRequirement already satisfied: kiwisolver==1.1.0 in /Users/cmmaj/Development/workspaces/VisualisingPoeticCulture/venv/lib/python3.7/site-packages (from -r ../requirements.txt (line 20)) (1.1.0)\r\nRequirement already satisfied: MarkupSafe==1.1.1 in /Users/cmmaj/Development/workspaces/VisualisingPoeticCulture/venv/lib/python3.7/site-packages (from -r ../requirements.txt (line 21)) (1.1.1)\r\n",
      "Requirement already satisfied: matplotlib==3.1.0 in /Users/cmmaj/Development/workspaces/VisualisingPoeticCulture/venv/lib/python3.7/site-packages (from -r ../requirements.txt (line 22)) (3.1.0)\r\nRequirement already satisfied: mistune==0.8.4 in /Users/cmmaj/Development/workspaces/VisualisingPoeticCulture/venv/lib/python3.7/site-packages (from -r ../requirements.txt (line 23)) (0.8.4)\r\nRequirement already satisfied: nbconvert==5.6.0 in /Users/cmmaj/Development/workspaces/VisualisingPoeticCulture/venv/lib/python3.7/site-packages (from -r ../requirements.txt (line 24)) (5.6.0)\r\n",
      "Requirement already satisfied: nbformat==4.4.0 in /Users/cmmaj/Development/workspaces/VisualisingPoeticCulture/venv/lib/python3.7/site-packages (from -r ../requirements.txt (line 25)) (4.4.0)\r\nRequirement already satisfied: notebook==6.0.1 in /Users/cmmaj/Development/workspaces/VisualisingPoeticCulture/venv/lib/python3.7/site-packages (from -r ../requirements.txt (line 26)) (6.0.1)\r\nRequirement already satisfied: numpy==1.17.2 in /Users/cmmaj/Development/workspaces/VisualisingPoeticCulture/venv/lib/python3.7/site-packages (from -r ../requirements.txt (line 27)) (1.17.2)\r\n",
      "Requirement already satisfied: pandas==0.25.1 in /Users/cmmaj/Development/workspaces/VisualisingPoeticCulture/venv/lib/python3.7/site-packages (from -r ../requirements.txt (line 28)) (0.25.1)\r\nRequirement already satisfied: pandocfilters==1.4.2 in /Users/cmmaj/Development/workspaces/VisualisingPoeticCulture/venv/lib/python3.7/site-packages (from -r ../requirements.txt (line 29)) (1.4.2)\r\nRequirement already satisfied: parso==0.5.1 in /Users/cmmaj/Development/workspaces/VisualisingPoeticCulture/venv/lib/python3.7/site-packages (from -r ../requirements.txt (line 30)) (0.5.1)\r\nRequirement already satisfied: pexpect==4.7.0 in /Users/cmmaj/Development/workspaces/VisualisingPoeticCulture/venv/lib/python3.7/site-packages (from -r ../requirements.txt (line 31)) (4.7.0)\r\nRequirement already satisfied: pickleshare==0.7.5 in /Users/cmmaj/Development/workspaces/VisualisingPoeticCulture/venv/lib/python3.7/site-packages (from -r ../requirements.txt (line 32)) (0.7.5)\r\nRequirement already satisfied: prometheus-client==0.7.1 in /Users/cmmaj/Development/workspaces/VisualisingPoeticCulture/venv/lib/python3.7/site-packages (from -r ../requirements.txt (line 33)) (0.7.1)\r\nRequirement already satisfied: prompt-toolkit==2.0.9 in /Users/cmmaj/Development/workspaces/VisualisingPoeticCulture/venv/lib/python3.7/site-packages (from -r ../requirements.txt (line 34)) (2.0.9)\r\nRequirement already satisfied: ptyprocess==0.6.0 in /Users/cmmaj/Development/workspaces/VisualisingPoeticCulture/venv/lib/python3.7/site-packages (from -r ../requirements.txt (line 35)) (0.6.0)\r\nRequirement already satisfied: Pygments==2.4.2 in /Users/cmmaj/Development/workspaces/VisualisingPoeticCulture/venv/lib/python3.7/site-packages (from -r ../requirements.txt (line 36)) (2.4.2)\r\nRequirement already satisfied: pyparsing==2.4.2 in /Users/cmmaj/Development/workspaces/VisualisingPoeticCulture/venv/lib/python3.7/site-packages (from -r ../requirements.txt (line 37)) (2.4.2)\r\nRequirement already satisfied: pyrsistent==0.15.4 in /Users/cmmaj/Development/workspaces/VisualisingPoeticCulture/venv/lib/python3.7/site-packages (from -r ../requirements.txt (line 38)) (0.15.4)\r\n",
      "Requirement already satisfied: python-dateutil==2.8.0 in /Users/cmmaj/Development/workspaces/VisualisingPoeticCulture/venv/lib/python3.7/site-packages (from -r ../requirements.txt (line 39)) (2.8.0)\r\nRequirement already satisfied: pytz==2019.2 in /Users/cmmaj/Development/workspaces/VisualisingPoeticCulture/venv/lib/python3.7/site-packages (from -r ../requirements.txt (line 40)) (2019.2)\r\nRequirement already satisfied: pyzmq==18.1.0 in /Users/cmmaj/Development/workspaces/VisualisingPoeticCulture/venv/lib/python3.7/site-packages (from -r ../requirements.txt (line 41)) (18.1.0)\r\nRequirement already satisfied: qtconsole==4.5.5 in /Users/cmmaj/Development/workspaces/VisualisingPoeticCulture/venv/lib/python3.7/site-packages (from -r ../requirements.txt (line 42)) (4.5.5)\r\nRequirement already satisfied: scipy==1.3.1 in /Users/cmmaj/Development/workspaces/VisualisingPoeticCulture/venv/lib/python3.7/site-packages (from -r ../requirements.txt (line 43)) (1.3.1)\r\nRequirement already satisfied: seaborn==0.9.0 in /Users/cmmaj/Development/workspaces/VisualisingPoeticCulture/venv/lib/python3.7/site-packages (from -r ../requirements.txt (line 44)) (0.9.0)\r\nRequirement already satisfied: Send2Trash==1.5.0 in /Users/cmmaj/Development/workspaces/VisualisingPoeticCulture/venv/lib/python3.7/site-packages (from -r ../requirements.txt (line 45)) (1.5.0)\r\nRequirement already satisfied: six==1.12.0 in /Users/cmmaj/Development/workspaces/VisualisingPoeticCulture/venv/lib/python3.7/site-packages (from -r ../requirements.txt (line 46)) (1.12.0)\r\n",
      "Requirement already satisfied: terminado==0.8.2 in /Users/cmmaj/Development/workspaces/VisualisingPoeticCulture/venv/lib/python3.7/site-packages (from -r ../requirements.txt (line 47)) (0.8.2)\r\nRequirement already satisfied: testpath==0.4.2 in /Users/cmmaj/Development/workspaces/VisualisingPoeticCulture/venv/lib/python3.7/site-packages (from -r ../requirements.txt (line 48)) (0.4.2)\r\nRequirement already satisfied: tornado==6.0.3 in /Users/cmmaj/Development/workspaces/VisualisingPoeticCulture/venv/lib/python3.7/site-packages (from -r ../requirements.txt (line 49)) (6.0.3)\r\nRequirement already satisfied: traitlets==4.3.2 in /Users/cmmaj/Development/workspaces/VisualisingPoeticCulture/venv/lib/python3.7/site-packages (from -r ../requirements.txt (line 50)) (4.3.2)\r\nRequirement already satisfied: wcwidth==0.1.7 in /Users/cmmaj/Development/workspaces/VisualisingPoeticCulture/venv/lib/python3.7/site-packages (from -r ../requirements.txt (line 51)) (0.1.7)\r\nRequirement already satisfied: webencodings==0.5.1 in /Users/cmmaj/Development/workspaces/VisualisingPoeticCulture/venv/lib/python3.7/site-packages (from -r ../requirements.txt (line 52)) (0.5.1)\r\nRequirement already satisfied: widgetsnbextension==3.5.1 in /Users/cmmaj/Development/workspaces/VisualisingPoeticCulture/venv/lib/python3.7/site-packages (from -r ../requirements.txt (line 53)) (3.5.1)\r\nRequirement already satisfied: xlrd==1.2.0 in /Users/cmmaj/Development/workspaces/VisualisingPoeticCulture/venv/lib/python3.7/site-packages (from -r ../requirements.txt (line 54)) (1.2.0)\r\nRequirement already satisfied: setuptools>=18.5 in /Users/cmmaj/Development/workspaces/VisualisingPoeticCulture/venv/lib/python3.7/site-packages/setuptools-40.8.0-py3.7.egg (from ipython==7.8.0->-r ../requirements.txt (line 10)) (40.8.0)\r\n"
     ],
     "output_type": "stream"
    }
   ],
   "source": [
    "!pip install -r ../requirements.txt\n",
    "import glob\n",
    "import visualising_poetry as vp\n",
    "import settings as vp_settings\n",
    "from IPython.display import HTML, display\n",
    "vp.setup_if_needed()"
   ]
  },
  {
   "cell_type": "markdown",
   "metadata": {
    "pycharm": {
     "name": "#%% md\n"
    }
   },
   "source": [
    "## Excel 'source' files\n",
    "The project has the following source (Excel) files:"
   ]
  },
  {
   "cell_type": "code",
   "execution_count": 2,
   "metadata": {
    "pycharm": {
     "is_executing": false,
     "name": "#%%\n"
    }
   },
   "outputs": [
    {
     "data": {
      "text/plain": "                              Source Files\n0             Daily Gazetteer 30.9.19.xlsx\n1         Newcastle General 1747-1760.xlsx\n2            Weekly Miscellany - live.xlsx\n3        Universal Magazine 1747-1800.xlsx\n4    Ladies Magazine 1749-1753 - live.xlsx\n5              Norwich Gazette - live.xlsx\n6                    Craftsman - live.xlsx\n7    London Morning Advertiser - live.xlsx\n8   MagofMags London 1750-1751 - live.xlsx\n9           London Magazine 1732-1785.xlsx\n10                Common Sense - Live.xlsx\n11              Dublin Journal - live.xlsx\n12        General Evening Post - live.xlsx\n13         London evening post - live.xlsx\n14     Gentleman's Magazine 1731-1800.xlsx\n15                Westminster Journal.xlsx\n16   Scots Magazine 1739-1800 30.9.19.xlsx\n17              St James Evening Post.xlsx\n18                              LDPGA.xlsx\n19                   Museum 1746-1747.xlsx\n20                Universal Spectator.xlsx\n21         British Magazine 1746-1751.xlsx",
      "text/html": "<div>\n<style scoped>\n    .dataframe tbody tr th:only-of-type {\n        vertical-align: middle;\n    }\n\n    .dataframe tbody tr th {\n        vertical-align: top;\n    }\n\n    .dataframe thead th {\n        text-align: right;\n    }\n</style>\n<table border=\"1\" class=\"dataframe\">\n  <thead>\n    <tr style=\"text-align: right;\">\n      <th></th>\n      <th>Source Files</th>\n    </tr>\n  </thead>\n  <tbody>\n    <tr>\n      <td>0</td>\n      <td>Daily Gazetteer 30.9.19.xlsx</td>\n    </tr>\n    <tr>\n      <td>1</td>\n      <td>Newcastle General 1747-1760.xlsx</td>\n    </tr>\n    <tr>\n      <td>2</td>\n      <td>Weekly Miscellany - live.xlsx</td>\n    </tr>\n    <tr>\n      <td>3</td>\n      <td>Universal Magazine 1747-1800.xlsx</td>\n    </tr>\n    <tr>\n      <td>4</td>\n      <td>Ladies Magazine 1749-1753 - live.xlsx</td>\n    </tr>\n    <tr>\n      <td>5</td>\n      <td>Norwich Gazette - live.xlsx</td>\n    </tr>\n    <tr>\n      <td>6</td>\n      <td>Craftsman - live.xlsx</td>\n    </tr>\n    <tr>\n      <td>7</td>\n      <td>London Morning Advertiser - live.xlsx</td>\n    </tr>\n    <tr>\n      <td>8</td>\n      <td>MagofMags London 1750-1751 - live.xlsx</td>\n    </tr>\n    <tr>\n      <td>9</td>\n      <td>London Magazine 1732-1785.xlsx</td>\n    </tr>\n    <tr>\n      <td>10</td>\n      <td>Common Sense - Live.xlsx</td>\n    </tr>\n    <tr>\n      <td>11</td>\n      <td>Dublin Journal - live.xlsx</td>\n    </tr>\n    <tr>\n      <td>12</td>\n      <td>General Evening Post - live.xlsx</td>\n    </tr>\n    <tr>\n      <td>13</td>\n      <td>London evening post - live.xlsx</td>\n    </tr>\n    <tr>\n      <td>14</td>\n      <td>Gentleman's Magazine 1731-1800.xlsx</td>\n    </tr>\n    <tr>\n      <td>15</td>\n      <td>Westminster Journal.xlsx</td>\n    </tr>\n    <tr>\n      <td>16</td>\n      <td>Scots Magazine 1739-1800 30.9.19.xlsx</td>\n    </tr>\n    <tr>\n      <td>17</td>\n      <td>St James Evening Post.xlsx</td>\n    </tr>\n    <tr>\n      <td>18</td>\n      <td>LDPGA.xlsx</td>\n    </tr>\n    <tr>\n      <td>19</td>\n      <td>Museum 1746-1747.xlsx</td>\n    </tr>\n    <tr>\n      <td>20</td>\n      <td>Universal Spectator.xlsx</td>\n    </tr>\n    <tr>\n      <td>21</td>\n      <td>British Magazine 1746-1751.xlsx</td>\n    </tr>\n  </tbody>\n</table>\n</div>"
     },
     "metadata": {},
     "output_type": "display_data"
    }
   ],
   "source": [
    "source_files_df = vp.source_files_info_as_df()\n",
    "display(source_files_df)"
   ]
  },
  {
   "cell_type": "markdown",
   "metadata": {},
   "source": [
    "### Pickle 'preprocessed' files \n",
    "\n",
    "The project has the following 'preprocessed' Pandas data frames of the 'poem data' sheet from the Excel source file."
   ]
  },
  {
   "cell_type": "code",
   "execution_count": 3,
   "metadata": {
    "pycharm": {
     "is_executing": false,
     "name": "#%%\n"
    }
   },
   "outputs": [
    {
     "data": {
      "text/plain": "                          Preprocessed Files\n0          British Magazine 1746-1751.pickle\n1              Norwich Gazette - live.pickle\n2                    Museum 1746-1747.pickle\n3                               LDPGA.pickle\n4        Universal Magazine 1747-1800.pickle\n5                    Craftsman - live.pickle\n6   MagofMags London 1750-1751 - live.pickle\n7            Weekly Miscellany - live.pickle\n8           London Magazine 1732-1785.pickle\n9          London evening post - live.pickle\n10     Gentleman's Magazine 1731-1800.pickle\n11            Daily Gazetteer 30.9.19.pickle\n12   Scots Magazine 1739-1800 30.9.19.pickle\n13                Universal Spectator.pickle\n14                Common Sense - Live.pickle\n15   Ladies Magazine 1749-1753 - live.pickle\n16        General Evening Post - live.pickle\n17                Westminster Journal.pickle\n18              Dublin Journal - live.pickle\n19        Newcastle General 1747-1760.pickle\n20   London Morning Advertiser - live.pickle\n21              St James Evening Post.pickle",
      "text/html": "<div>\n<style scoped>\n    .dataframe tbody tr th:only-of-type {\n        vertical-align: middle;\n    }\n\n    .dataframe tbody tr th {\n        vertical-align: top;\n    }\n\n    .dataframe thead th {\n        text-align: right;\n    }\n</style>\n<table border=\"1\" class=\"dataframe\">\n  <thead>\n    <tr style=\"text-align: right;\">\n      <th></th>\n      <th>Preprocessed Files</th>\n    </tr>\n  </thead>\n  <tbody>\n    <tr>\n      <td>0</td>\n      <td>British Magazine 1746-1751.pickle</td>\n    </tr>\n    <tr>\n      <td>1</td>\n      <td>Norwich Gazette - live.pickle</td>\n    </tr>\n    <tr>\n      <td>2</td>\n      <td>Museum 1746-1747.pickle</td>\n    </tr>\n    <tr>\n      <td>3</td>\n      <td>LDPGA.pickle</td>\n    </tr>\n    <tr>\n      <td>4</td>\n      <td>Universal Magazine 1747-1800.pickle</td>\n    </tr>\n    <tr>\n      <td>5</td>\n      <td>Craftsman - live.pickle</td>\n    </tr>\n    <tr>\n      <td>6</td>\n      <td>MagofMags London 1750-1751 - live.pickle</td>\n    </tr>\n    <tr>\n      <td>7</td>\n      <td>Weekly Miscellany - live.pickle</td>\n    </tr>\n    <tr>\n      <td>8</td>\n      <td>London Magazine 1732-1785.pickle</td>\n    </tr>\n    <tr>\n      <td>9</td>\n      <td>London evening post - live.pickle</td>\n    </tr>\n    <tr>\n      <td>10</td>\n      <td>Gentleman's Magazine 1731-1800.pickle</td>\n    </tr>\n    <tr>\n      <td>11</td>\n      <td>Daily Gazetteer 30.9.19.pickle</td>\n    </tr>\n    <tr>\n      <td>12</td>\n      <td>Scots Magazine 1739-1800 30.9.19.pickle</td>\n    </tr>\n    <tr>\n      <td>13</td>\n      <td>Universal Spectator.pickle</td>\n    </tr>\n    <tr>\n      <td>14</td>\n      <td>Common Sense - Live.pickle</td>\n    </tr>\n    <tr>\n      <td>15</td>\n      <td>Ladies Magazine 1749-1753 - live.pickle</td>\n    </tr>\n    <tr>\n      <td>16</td>\n      <td>General Evening Post - live.pickle</td>\n    </tr>\n    <tr>\n      <td>17</td>\n      <td>Westminster Journal.pickle</td>\n    </tr>\n    <tr>\n      <td>18</td>\n      <td>Dublin Journal - live.pickle</td>\n    </tr>\n    <tr>\n      <td>19</td>\n      <td>Newcastle General 1747-1760.pickle</td>\n    </tr>\n    <tr>\n      <td>20</td>\n      <td>London Morning Advertiser - live.pickle</td>\n    </tr>\n    <tr>\n      <td>21</td>\n      <td>St James Evening Post.pickle</td>\n    </tr>\n  </tbody>\n</table>\n</div>"
     },
     "metadata": {},
     "output_type": "display_data"
    }
   ],
   "source": [
    "preprocessed_file_df = vp.preprocessed_files_info_as_df()\n",
    "display(preprocessed_file_df)"
   ]
  }
 ],
 "metadata": {
  "kernelspec": {
   "display_name": "Python 3",
   "language": "python",
   "name": "python3"
  },
  "language_info": {
   "codemirror_mode": {
    "name": "ipython",
    "version": 3
   },
   "file_extension": ".py",
   "mimetype": "text/x-python",
   "name": "python",
   "nbconvert_exporter": "python",
   "pygments_lexer": "ipython3",
   "version": "3.7.4"
  },
  "pycharm": {
   "stem_cell": {
    "cell_type": "raw",
    "source": [],
    "metadata": {
     "collapsed": false
    }
   }
  }
 },
 "nbformat": 4,
 "nbformat_minor": 1
}