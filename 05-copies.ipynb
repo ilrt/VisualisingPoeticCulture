{
 "cells": [
  {
   "cell_type": "markdown",
   "metadata": {},
   "source": [
    "# Publications Overview\n",
    "\n",
    "A notebook that provides an overview of the copied poems in the dataset.\n",
    "\n",
    "## Notebook setup\n",
    "\n",
    "Ensure that necessary libraries are install and imported into the workplace."
   ]
  },
  {
   "cell_type": "code",
   "execution_count": 1,
   "metadata": {
    "pycharm": {
     "is_executing": false,
     "name": "#%%\n"
    }
   },
   "outputs": [],
   "source": [
    "# setup relative path to import local module (needed when used in Conda) https://stackoverflow.com/questions/34478398\n",
    "import os\n",
    "import sys\n",
    "module_path = os.path.abspath(os.path.join('..'))\n",
    "if module_path not in sys.path:\n",
    "    sys.path.append(module_path)\n",
    "import visualising_poetry.data as vpd\n",
    "import visualising_poetry.widgets as vpw\n",
    "\n",
    "# import libraries\n",
    "import numpy as np\n",
    "import matplotlib.pyplot as plot\n",
    "import seaborn as sn\n",
    "import ipywidgets as widgets\n",
    "from IPython.display import display, HTML\n",
    "\n",
    "# get data and process (if necessary)\n",
    "vpd.setup_if_needed()\n",
    "\n",
    "# get data as a single data frame\n",
    "df = vpd.complete_dataset()\n",
    "\n",
    "# create a data frame of poems identified as copies\n",
    "copies_df = vpd.copied_poems(df)"
   ]
  },
  {
   "cell_type": "markdown",
   "metadata": {
    "pycharm": {
     "name": "#%% md\n"
    }
   },
   "source": [
    "## Copies\n",
    "\n",
    "Scatter graph to show the number of poems identified as duplicates."
   ]
  },
  {
   "cell_type": "code",
   "execution_count": 2,
   "metadata": {
    "pycharm": {
     "is_executing": false,
     "name": "#%%\n"
    }
   },
   "outputs": [],
   "source": [
    "# create a subset sorted by ref no\n",
    "copies_df_sorted = copies_df[[vpd.REF_NO, vpd.PUB_TITLE, vpd.YEAR, vpd.MONTH, vpd.DAY, vpd.F_LINE]].sort_values(\n",
    "    by=[vpd.REF_NO, vpd.YEAR, vpd.MONTH, vpd.DAY])\n",
    "\n",
    "# count the copies\n",
    "copies_count = copies_df_sorted.groupby(vpd.REF_NO)[vpd.F_LINE].count()\n",
    "copies_count_df = copies_count.to_frame().reset_index().rename(columns= {vpd.F_LINE: 'count'})\n",
    "\n",
    "copies_count_df.plot(kind='scatter', x='ref no', y='count', figsize=(15, 10))\n",
    "plot.tick_params(axis='x', which='both', bottom=False, top=False, labelbottom=False)\n",
    "plot.show()"
   ]
  },
  {
   "cell_type": "markdown",
   "metadata": {},
   "source": [
    "## Matrix / heat map (all years)\n",
    "\n",
    "This matrix / heat map shows the number poems that were shared between publications. The score does not include the \n",
    "poem being republished by the same publication."
   ]
  },
  {
   "cell_type": "code",
   "execution_count": 3,
   "metadata": {
    "pycharm": {
     "is_executing": false,
     "name": "#%%\n"
    }
   },
   "outputs": [],
   "source": [
    "# create a matrix of publications\n",
    "matrix = vpd.create_publications_matrix(copies_df)\n",
    "\n",
    "# mask one side of the matrix to hide duplication\n",
    "mask = np.zeros_like(matrix)\n",
    "mask[np.triu_indices_from(mask)] = True\n",
    "\n",
    "# display the heat map\n",
    "plot.figure(figsize=(15, 15))\n",
    "with sn.axes_style(\"white\"):\n",
    "    sn.heatmap(matrix, mask=mask, cmap='Oranges', annot=True, fmt='g', annot_kws={'size':14})\n",
    "plot.show()"
   ]
  },
  {
   "cell_type": "markdown",
   "metadata": {},
   "source": [
    "## Matrix / heat map (by year)\n",
    "\n",
    "Select a year to generate a matrix / heat map showing the number poems that were shared between publications in\n",
    "that year."
   ]
  },
  {
   "cell_type": "code",
   "execution_count": 4,
   "metadata": {
    "pycharm": {
     "name": "#%%\n"
    }
   },
   "outputs": [],
   "source": [
    "# create the drop-down widget and button\n",
    "pub_widget = vpw.publication_year_widget(df)\n",
    "btn = widgets.Button(description='Generate report')\n",
    "\n",
    "# output for our widget\n",
    "out = widgets.Output(layout={'border': '1px solid black'})\n",
    "\n",
    "# method called to generate output\n",
    "def on_button_pressed(button):\n",
    "    out.clear_output()\n",
    "    with out:\n",
    "        year = pub_widget.value\n",
    "        copies_year_df = copies_df[copies_df['year'] == year]\n",
    "        if copies_year_df.size > 0:\n",
    "            copies_matrix = vpd.create_publications_matrix(copies_year_df)\n",
    "            # mask one side of the matrix to hide duplication\n",
    "            copies_mask = np.zeros_like(copies_matrix)\n",
    "            copies_mask[np.triu_indices_from(copies_mask)] = True\n",
    "            plot.figure(figsize=(15, 15))\n",
    "            plot.title(year)\n",
    "            sn.heatmap(copies_matrix, mask=copies_mask, cmap='Oranges', annot=True, fmt='g', annot_kws={'size':14})\n",
    "            plot.show()\n",
    "        else:\n",
    "            display(HTML('<p>No data for {}.'.format(year)))\n",
    "\n",
    "# display UI\n",
    "btn.on_click(on_button_pressed)\n",
    "display(pub_widget)\n",
    "display(btn)\n",
    "out"
   ]
  },
  {
   "cell_type": "code",
   "execution_count": null,
   "metadata": {},
   "outputs": [],
   "source": []
  }
 ],
 "metadata": {
  "kernelspec": {
   "display_name": "Python 3",
   "language": "python",
   "name": "python3"
  },
  "language_info": {
   "codemirror_mode": {
    "name": "ipython",
    "version": 3
   },
   "file_extension": ".py",
   "mimetype": "text/x-python",
   "name": "python",
   "nbconvert_exporter": "python",
   "pygments_lexer": "ipython3",
   "version": "3.7.6"
  },
  "pycharm": {
   "stem_cell": {
    "cell_type": "raw",
    "metadata": {
     "collapsed": false
    },
    "source": []
   }
  }
 },
 "nbformat": 4,
 "nbformat_minor": 1
}